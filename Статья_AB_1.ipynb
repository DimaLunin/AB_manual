{
  "nbformat": 4,
  "nbformat_minor": 0,
  "metadata": {
    "colab": {
      "provenance": []
    },
    "kernelspec": {
      "name": "python3",
      "display_name": "Python 3"
    },
    "language_info": {
      "name": "python"
    },
    "widgets": {
      "application/vnd.jupyter.widget-state+json": {
        "0b88f4c0388943489aab564a4a8304f9": {
          "model_module": "@jupyter-widgets/controls",
          "model_name": "HBoxModel",
          "model_module_version": "1.5.0",
          "state": {
            "_dom_classes": [],
            "_model_module": "@jupyter-widgets/controls",
            "_model_module_version": "1.5.0",
            "_model_name": "HBoxModel",
            "_view_count": null,
            "_view_module": "@jupyter-widgets/controls",
            "_view_module_version": "1.5.0",
            "_view_name": "HBoxView",
            "box_style": "",
            "children": [
              "IPY_MODEL_80859c739fc949859655f4b70e4deadc",
              "IPY_MODEL_31609f33961a46de881f061e4ff4b15a",
              "IPY_MODEL_280ca053f22344dbb6cd5174ab7a4ece"
            ],
            "layout": "IPY_MODEL_e0fbb93b4ef64330b583675b9ea1207d"
          }
        },
        "80859c739fc949859655f4b70e4deadc": {
          "model_module": "@jupyter-widgets/controls",
          "model_name": "HTMLModel",
          "model_module_version": "1.5.0",
          "state": {
            "_dom_classes": [],
            "_model_module": "@jupyter-widgets/controls",
            "_model_module_version": "1.5.0",
            "_model_name": "HTMLModel",
            "_view_count": null,
            "_view_module": "@jupyter-widgets/controls",
            "_view_module_version": "1.5.0",
            "_view_name": "HTMLView",
            "description": "",
            "description_tooltip": null,
            "layout": "IPY_MODEL_6c00817f2a184f469767d0d0c839e727",
            "placeholder": "​",
            "style": "IPY_MODEL_32962ced704f4ce4a2a53778802f080e",
            "value": "100%"
          }
        },
        "31609f33961a46de881f061e4ff4b15a": {
          "model_module": "@jupyter-widgets/controls",
          "model_name": "FloatProgressModel",
          "model_module_version": "1.5.0",
          "state": {
            "_dom_classes": [],
            "_model_module": "@jupyter-widgets/controls",
            "_model_module_version": "1.5.0",
            "_model_name": "FloatProgressModel",
            "_view_count": null,
            "_view_module": "@jupyter-widgets/controls",
            "_view_module_version": "1.5.0",
            "_view_name": "ProgressView",
            "bar_style": "success",
            "description": "",
            "description_tooltip": null,
            "layout": "IPY_MODEL_feb9a07f21834081977435a5926fd915",
            "max": 1000,
            "min": 0,
            "orientation": "horizontal",
            "style": "IPY_MODEL_48cf412d4cd244bb82fa1a738e2e566a",
            "value": 1000
          }
        },
        "280ca053f22344dbb6cd5174ab7a4ece": {
          "model_module": "@jupyter-widgets/controls",
          "model_name": "HTMLModel",
          "model_module_version": "1.5.0",
          "state": {
            "_dom_classes": [],
            "_model_module": "@jupyter-widgets/controls",
            "_model_module_version": "1.5.0",
            "_model_name": "HTMLModel",
            "_view_count": null,
            "_view_module": "@jupyter-widgets/controls",
            "_view_module_version": "1.5.0",
            "_view_name": "HTMLView",
            "description": "",
            "description_tooltip": null,
            "layout": "IPY_MODEL_c1988bfd946243b4940a5126e5ecd547",
            "placeholder": "​",
            "style": "IPY_MODEL_ea80024038014b29b341e43c8900af78",
            "value": " 1000/1000 [00:40&lt;00:00, 28.87it/s]"
          }
        },
        "e0fbb93b4ef64330b583675b9ea1207d": {
          "model_module": "@jupyter-widgets/base",
          "model_name": "LayoutModel",
          "model_module_version": "1.2.0",
          "state": {
            "_model_module": "@jupyter-widgets/base",
            "_model_module_version": "1.2.0",
            "_model_name": "LayoutModel",
            "_view_count": null,
            "_view_module": "@jupyter-widgets/base",
            "_view_module_version": "1.2.0",
            "_view_name": "LayoutView",
            "align_content": null,
            "align_items": null,
            "align_self": null,
            "border": null,
            "bottom": null,
            "display": null,
            "flex": null,
            "flex_flow": null,
            "grid_area": null,
            "grid_auto_columns": null,
            "grid_auto_flow": null,
            "grid_auto_rows": null,
            "grid_column": null,
            "grid_gap": null,
            "grid_row": null,
            "grid_template_areas": null,
            "grid_template_columns": null,
            "grid_template_rows": null,
            "height": null,
            "justify_content": null,
            "justify_items": null,
            "left": null,
            "margin": null,
            "max_height": null,
            "max_width": null,
            "min_height": null,
            "min_width": null,
            "object_fit": null,
            "object_position": null,
            "order": null,
            "overflow": null,
            "overflow_x": null,
            "overflow_y": null,
            "padding": null,
            "right": null,
            "top": null,
            "visibility": null,
            "width": null
          }
        },
        "6c00817f2a184f469767d0d0c839e727": {
          "model_module": "@jupyter-widgets/base",
          "model_name": "LayoutModel",
          "model_module_version": "1.2.0",
          "state": {
            "_model_module": "@jupyter-widgets/base",
            "_model_module_version": "1.2.0",
            "_model_name": "LayoutModel",
            "_view_count": null,
            "_view_module": "@jupyter-widgets/base",
            "_view_module_version": "1.2.0",
            "_view_name": "LayoutView",
            "align_content": null,
            "align_items": null,
            "align_self": null,
            "border": null,
            "bottom": null,
            "display": null,
            "flex": null,
            "flex_flow": null,
            "grid_area": null,
            "grid_auto_columns": null,
            "grid_auto_flow": null,
            "grid_auto_rows": null,
            "grid_column": null,
            "grid_gap": null,
            "grid_row": null,
            "grid_template_areas": null,
            "grid_template_columns": null,
            "grid_template_rows": null,
            "height": null,
            "justify_content": null,
            "justify_items": null,
            "left": null,
            "margin": null,
            "max_height": null,
            "max_width": null,
            "min_height": null,
            "min_width": null,
            "object_fit": null,
            "object_position": null,
            "order": null,
            "overflow": null,
            "overflow_x": null,
            "overflow_y": null,
            "padding": null,
            "right": null,
            "top": null,
            "visibility": null,
            "width": null
          }
        },
        "32962ced704f4ce4a2a53778802f080e": {
          "model_module": "@jupyter-widgets/controls",
          "model_name": "DescriptionStyleModel",
          "model_module_version": "1.5.0",
          "state": {
            "_model_module": "@jupyter-widgets/controls",
            "_model_module_version": "1.5.0",
            "_model_name": "DescriptionStyleModel",
            "_view_count": null,
            "_view_module": "@jupyter-widgets/base",
            "_view_module_version": "1.2.0",
            "_view_name": "StyleView",
            "description_width": ""
          }
        },
        "feb9a07f21834081977435a5926fd915": {
          "model_module": "@jupyter-widgets/base",
          "model_name": "LayoutModel",
          "model_module_version": "1.2.0",
          "state": {
            "_model_module": "@jupyter-widgets/base",
            "_model_module_version": "1.2.0",
            "_model_name": "LayoutModel",
            "_view_count": null,
            "_view_module": "@jupyter-widgets/base",
            "_view_module_version": "1.2.0",
            "_view_name": "LayoutView",
            "align_content": null,
            "align_items": null,
            "align_self": null,
            "border": null,
            "bottom": null,
            "display": null,
            "flex": null,
            "flex_flow": null,
            "grid_area": null,
            "grid_auto_columns": null,
            "grid_auto_flow": null,
            "grid_auto_rows": null,
            "grid_column": null,
            "grid_gap": null,
            "grid_row": null,
            "grid_template_areas": null,
            "grid_template_columns": null,
            "grid_template_rows": null,
            "height": null,
            "justify_content": null,
            "justify_items": null,
            "left": null,
            "margin": null,
            "max_height": null,
            "max_width": null,
            "min_height": null,
            "min_width": null,
            "object_fit": null,
            "object_position": null,
            "order": null,
            "overflow": null,
            "overflow_x": null,
            "overflow_y": null,
            "padding": null,
            "right": null,
            "top": null,
            "visibility": null,
            "width": null
          }
        },
        "48cf412d4cd244bb82fa1a738e2e566a": {
          "model_module": "@jupyter-widgets/controls",
          "model_name": "ProgressStyleModel",
          "model_module_version": "1.5.0",
          "state": {
            "_model_module": "@jupyter-widgets/controls",
            "_model_module_version": "1.5.0",
            "_model_name": "ProgressStyleModel",
            "_view_count": null,
            "_view_module": "@jupyter-widgets/base",
            "_view_module_version": "1.2.0",
            "_view_name": "StyleView",
            "bar_color": null,
            "description_width": ""
          }
        },
        "c1988bfd946243b4940a5126e5ecd547": {
          "model_module": "@jupyter-widgets/base",
          "model_name": "LayoutModel",
          "model_module_version": "1.2.0",
          "state": {
            "_model_module": "@jupyter-widgets/base",
            "_model_module_version": "1.2.0",
            "_model_name": "LayoutModel",
            "_view_count": null,
            "_view_module": "@jupyter-widgets/base",
            "_view_module_version": "1.2.0",
            "_view_name": "LayoutView",
            "align_content": null,
            "align_items": null,
            "align_self": null,
            "border": null,
            "bottom": null,
            "display": null,
            "flex": null,
            "flex_flow": null,
            "grid_area": null,
            "grid_auto_columns": null,
            "grid_auto_flow": null,
            "grid_auto_rows": null,
            "grid_column": null,
            "grid_gap": null,
            "grid_row": null,
            "grid_template_areas": null,
            "grid_template_columns": null,
            "grid_template_rows": null,
            "height": null,
            "justify_content": null,
            "justify_items": null,
            "left": null,
            "margin": null,
            "max_height": null,
            "max_width": null,
            "min_height": null,
            "min_width": null,
            "object_fit": null,
            "object_position": null,
            "order": null,
            "overflow": null,
            "overflow_x": null,
            "overflow_y": null,
            "padding": null,
            "right": null,
            "top": null,
            "visibility": null,
            "width": null
          }
        },
        "ea80024038014b29b341e43c8900af78": {
          "model_module": "@jupyter-widgets/controls",
          "model_name": "DescriptionStyleModel",
          "model_module_version": "1.5.0",
          "state": {
            "_model_module": "@jupyter-widgets/controls",
            "_model_module_version": "1.5.0",
            "_model_name": "DescriptionStyleModel",
            "_view_count": null,
            "_view_module": "@jupyter-widgets/base",
            "_view_module_version": "1.2.0",
            "_view_name": "StyleView",
            "description_width": ""
          }
        },
        "26dba105837b4959a4301acf08dabef9": {
          "model_module": "@jupyter-widgets/controls",
          "model_name": "HBoxModel",
          "model_module_version": "1.5.0",
          "state": {
            "_dom_classes": [],
            "_model_module": "@jupyter-widgets/controls",
            "_model_module_version": "1.5.0",
            "_model_name": "HBoxModel",
            "_view_count": null,
            "_view_module": "@jupyter-widgets/controls",
            "_view_module_version": "1.5.0",
            "_view_name": "HBoxView",
            "box_style": "",
            "children": [
              "IPY_MODEL_8a5fb6df02b34ec5aba38f8186e9280e",
              "IPY_MODEL_32571f0094784867a6ca67ea31251ecc",
              "IPY_MODEL_ce86649cd8c140b0991574c4feb15219"
            ],
            "layout": "IPY_MODEL_6b8252267f3d4a648b22b8116f707839"
          }
        },
        "8a5fb6df02b34ec5aba38f8186e9280e": {
          "model_module": "@jupyter-widgets/controls",
          "model_name": "HTMLModel",
          "model_module_version": "1.5.0",
          "state": {
            "_dom_classes": [],
            "_model_module": "@jupyter-widgets/controls",
            "_model_module_version": "1.5.0",
            "_model_name": "HTMLModel",
            "_view_count": null,
            "_view_module": "@jupyter-widgets/controls",
            "_view_module_version": "1.5.0",
            "_view_name": "HTMLView",
            "description": "",
            "description_tooltip": null,
            "layout": "IPY_MODEL_753757f8cad14c28ac5a3ad585cda346",
            "placeholder": "​",
            "style": "IPY_MODEL_628a6cff6c7a4ccdad47c33093c0d92f",
            "value": "100%"
          }
        },
        "32571f0094784867a6ca67ea31251ecc": {
          "model_module": "@jupyter-widgets/controls",
          "model_name": "FloatProgressModel",
          "model_module_version": "1.5.0",
          "state": {
            "_dom_classes": [],
            "_model_module": "@jupyter-widgets/controls",
            "_model_module_version": "1.5.0",
            "_model_name": "FloatProgressModel",
            "_view_count": null,
            "_view_module": "@jupyter-widgets/controls",
            "_view_module_version": "1.5.0",
            "_view_name": "ProgressView",
            "bar_style": "success",
            "description": "",
            "description_tooltip": null,
            "layout": "IPY_MODEL_19f888f5111c4f0a8b46982291a480d8",
            "max": 1000,
            "min": 0,
            "orientation": "horizontal",
            "style": "IPY_MODEL_8fc07c06a6b247bbae18d25fa6039156",
            "value": 1000
          }
        },
        "ce86649cd8c140b0991574c4feb15219": {
          "model_module": "@jupyter-widgets/controls",
          "model_name": "HTMLModel",
          "model_module_version": "1.5.0",
          "state": {
            "_dom_classes": [],
            "_model_module": "@jupyter-widgets/controls",
            "_model_module_version": "1.5.0",
            "_model_name": "HTMLModel",
            "_view_count": null,
            "_view_module": "@jupyter-widgets/controls",
            "_view_module_version": "1.5.0",
            "_view_name": "HTMLView",
            "description": "",
            "description_tooltip": null,
            "layout": "IPY_MODEL_f40f39deb2da4bdfa90843291a01d8b0",
            "placeholder": "​",
            "style": "IPY_MODEL_29590987c1d64415bdc1464991d840fb",
            "value": " 1000/1000 [00:05&lt;00:00, 367.87it/s]"
          }
        },
        "6b8252267f3d4a648b22b8116f707839": {
          "model_module": "@jupyter-widgets/base",
          "model_name": "LayoutModel",
          "model_module_version": "1.2.0",
          "state": {
            "_model_module": "@jupyter-widgets/base",
            "_model_module_version": "1.2.0",
            "_model_name": "LayoutModel",
            "_view_count": null,
            "_view_module": "@jupyter-widgets/base",
            "_view_module_version": "1.2.0",
            "_view_name": "LayoutView",
            "align_content": null,
            "align_items": null,
            "align_self": null,
            "border": null,
            "bottom": null,
            "display": null,
            "flex": null,
            "flex_flow": null,
            "grid_area": null,
            "grid_auto_columns": null,
            "grid_auto_flow": null,
            "grid_auto_rows": null,
            "grid_column": null,
            "grid_gap": null,
            "grid_row": null,
            "grid_template_areas": null,
            "grid_template_columns": null,
            "grid_template_rows": null,
            "height": null,
            "justify_content": null,
            "justify_items": null,
            "left": null,
            "margin": null,
            "max_height": null,
            "max_width": null,
            "min_height": null,
            "min_width": null,
            "object_fit": null,
            "object_position": null,
            "order": null,
            "overflow": null,
            "overflow_x": null,
            "overflow_y": null,
            "padding": null,
            "right": null,
            "top": null,
            "visibility": null,
            "width": null
          }
        },
        "753757f8cad14c28ac5a3ad585cda346": {
          "model_module": "@jupyter-widgets/base",
          "model_name": "LayoutModel",
          "model_module_version": "1.2.0",
          "state": {
            "_model_module": "@jupyter-widgets/base",
            "_model_module_version": "1.2.0",
            "_model_name": "LayoutModel",
            "_view_count": null,
            "_view_module": "@jupyter-widgets/base",
            "_view_module_version": "1.2.0",
            "_view_name": "LayoutView",
            "align_content": null,
            "align_items": null,
            "align_self": null,
            "border": null,
            "bottom": null,
            "display": null,
            "flex": null,
            "flex_flow": null,
            "grid_area": null,
            "grid_auto_columns": null,
            "grid_auto_flow": null,
            "grid_auto_rows": null,
            "grid_column": null,
            "grid_gap": null,
            "grid_row": null,
            "grid_template_areas": null,
            "grid_template_columns": null,
            "grid_template_rows": null,
            "height": null,
            "justify_content": null,
            "justify_items": null,
            "left": null,
            "margin": null,
            "max_height": null,
            "max_width": null,
            "min_height": null,
            "min_width": null,
            "object_fit": null,
            "object_position": null,
            "order": null,
            "overflow": null,
            "overflow_x": null,
            "overflow_y": null,
            "padding": null,
            "right": null,
            "top": null,
            "visibility": null,
            "width": null
          }
        },
        "628a6cff6c7a4ccdad47c33093c0d92f": {
          "model_module": "@jupyter-widgets/controls",
          "model_name": "DescriptionStyleModel",
          "model_module_version": "1.5.0",
          "state": {
            "_model_module": "@jupyter-widgets/controls",
            "_model_module_version": "1.5.0",
            "_model_name": "DescriptionStyleModel",
            "_view_count": null,
            "_view_module": "@jupyter-widgets/base",
            "_view_module_version": "1.2.0",
            "_view_name": "StyleView",
            "description_width": ""
          }
        },
        "19f888f5111c4f0a8b46982291a480d8": {
          "model_module": "@jupyter-widgets/base",
          "model_name": "LayoutModel",
          "model_module_version": "1.2.0",
          "state": {
            "_model_module": "@jupyter-widgets/base",
            "_model_module_version": "1.2.0",
            "_model_name": "LayoutModel",
            "_view_count": null,
            "_view_module": "@jupyter-widgets/base",
            "_view_module_version": "1.2.0",
            "_view_name": "LayoutView",
            "align_content": null,
            "align_items": null,
            "align_self": null,
            "border": null,
            "bottom": null,
            "display": null,
            "flex": null,
            "flex_flow": null,
            "grid_area": null,
            "grid_auto_columns": null,
            "grid_auto_flow": null,
            "grid_auto_rows": null,
            "grid_column": null,
            "grid_gap": null,
            "grid_row": null,
            "grid_template_areas": null,
            "grid_template_columns": null,
            "grid_template_rows": null,
            "height": null,
            "justify_content": null,
            "justify_items": null,
            "left": null,
            "margin": null,
            "max_height": null,
            "max_width": null,
            "min_height": null,
            "min_width": null,
            "object_fit": null,
            "object_position": null,
            "order": null,
            "overflow": null,
            "overflow_x": null,
            "overflow_y": null,
            "padding": null,
            "right": null,
            "top": null,
            "visibility": null,
            "width": null
          }
        },
        "8fc07c06a6b247bbae18d25fa6039156": {
          "model_module": "@jupyter-widgets/controls",
          "model_name": "ProgressStyleModel",
          "model_module_version": "1.5.0",
          "state": {
            "_model_module": "@jupyter-widgets/controls",
            "_model_module_version": "1.5.0",
            "_model_name": "ProgressStyleModel",
            "_view_count": null,
            "_view_module": "@jupyter-widgets/base",
            "_view_module_version": "1.2.0",
            "_view_name": "StyleView",
            "bar_color": null,
            "description_width": ""
          }
        },
        "f40f39deb2da4bdfa90843291a01d8b0": {
          "model_module": "@jupyter-widgets/base",
          "model_name": "LayoutModel",
          "model_module_version": "1.2.0",
          "state": {
            "_model_module": "@jupyter-widgets/base",
            "_model_module_version": "1.2.0",
            "_model_name": "LayoutModel",
            "_view_count": null,
            "_view_module": "@jupyter-widgets/base",
            "_view_module_version": "1.2.0",
            "_view_name": "LayoutView",
            "align_content": null,
            "align_items": null,
            "align_self": null,
            "border": null,
            "bottom": null,
            "display": null,
            "flex": null,
            "flex_flow": null,
            "grid_area": null,
            "grid_auto_columns": null,
            "grid_auto_flow": null,
            "grid_auto_rows": null,
            "grid_column": null,
            "grid_gap": null,
            "grid_row": null,
            "grid_template_areas": null,
            "grid_template_columns": null,
            "grid_template_rows": null,
            "height": null,
            "justify_content": null,
            "justify_items": null,
            "left": null,
            "margin": null,
            "max_height": null,
            "max_width": null,
            "min_height": null,
            "min_width": null,
            "object_fit": null,
            "object_position": null,
            "order": null,
            "overflow": null,
            "overflow_x": null,
            "overflow_y": null,
            "padding": null,
            "right": null,
            "top": null,
            "visibility": null,
            "width": null
          }
        },
        "29590987c1d64415bdc1464991d840fb": {
          "model_module": "@jupyter-widgets/controls",
          "model_name": "DescriptionStyleModel",
          "model_module_version": "1.5.0",
          "state": {
            "_model_module": "@jupyter-widgets/controls",
            "_model_module_version": "1.5.0",
            "_model_name": "DescriptionStyleModel",
            "_view_count": null,
            "_view_module": "@jupyter-widgets/base",
            "_view_module_version": "1.2.0",
            "_view_name": "StyleView",
            "description_width": ""
          }
        }
      }
    }
  },
  "cells": [
    {
      "cell_type": "code",
      "execution_count": null,
      "metadata": {
        "id": "yZOUKE9qEnMD"
      },
      "outputs": [],
      "source": [
        "import numpy as np\n",
        "import scipy.stats as sps\n",
        "from seaborn import distplot\n",
        "from matplotlib import pyplot\n",
        "import seaborn as sns\n",
        "\n",
        "from collections import namedtuple\n",
        "import scipy.stats as sps\n",
        "import statsmodels.stats.api as sms\n",
        "from tqdm.notebook import tqdm as tqdm_notebook # tqdm – библиотека для визуализации прогресса в цикле\n",
        "from collections import defaultdict\n",
        "from statsmodels.stats.proportion import proportion_confint\n",
        "import numpy as np\n",
        "import pandas as pd\n",
        "import itertools\n",
        "import seaborn as sns\n",
        "import matplotlib.pyplot as plt\n",
        "import seaborn as sns\n",
        "import warnings\n",
        "warnings.filterwarnings('ignore')\n",
        "\n",
        "sns.set(font_scale=1.5, palette='Set2')\n",
        "ExperimentComparisonResults = namedtuple('ExperimentComparisonResults',\n",
        "                                        ['pvalue', 'effect', 'ci_length', 'left_bound', 'right_bound'])"
      ]
    },
    {
      "cell_type": "markdown",
      "source": [
        "Всем привет! Меня зовут Дима Лунин, я автор курса по экспериментам в Академии Аналитиков Авито. В текущей статье я хочу \"обкатать\" материал, который мы рассказываем на курсе экспериментов, а также поделиться экспертизой по АБ-тестированию с ребятами, которые только начинают свой путь в аналитике, но уже имеют базовые знания в статистике и в проверке стат. гипотез.\n",
        "\n",
        "Цель статьи – на примере несложного реального кейса полностью разобрать механику АБ-тестирования, объяснить математику и интуицию за каждым шагом при проведении эксперимента. Кроме того, статья будет снабжена большим количеством кода, который вы сможете потом переиспользовать для себя. В данной статье мы затронем только начальные знания по АБ, а про различные продвинутые механики мы поговорим в следующий раз, если статья вам понравится!\n",
        "\n",
        "\n",
        "**Важно:** предполагается, что читатель уже хорошо разбирается в статистике, отлично понимает, как проверять статитсические гипотезы, что такое ошибка 1 и 2 рода, мощность. Кроме этого надо знать, что такое доверительный интервал, как и в каких случаях работает t-test, а также как валидировать критерий с помощью механики Монте-Карло. Если вы считаете, что у вас тут есть пробелы в знаниях, то в начале советую просмотреть [курс по статистике от ААА](https://avito.tech/education/statistics), лекции 1-5.\n",
        "\n",
        "----\n",
        "\n",
        "План методички будет следующим:\n",
        "\n",
        "1. Сформулируем кейс, который будем решать.\n",
        "\n",
        "2. Дадим краткое определение АБ-тестирования и введем всю необходимую статистическую базу под капотом.\n",
        "\n",
        "3. Запустим AB-тест на реальных данных, но с плохим дизайном эксперимента.\n",
        "\n",
        "4. Будем исправлять ситуацию: научимся грамотно сетапить эксперимент: размер трафика, длительность теста, определим метрики и прокси метрики.\n",
        "\n",
        "5. Контр-метрики\n",
        "\n",
        "6. Грамотная визуализация результатов.\n",
        "\n",
        "7. Итоги. Соберем все шаги из статьи в краткое саммари."
      ],
      "metadata": {
        "id": "Kk3UDFUwFbEl"
      }
    },
    {
      "cell_type": "markdown",
      "source": [
        "### Задача\n",
        "\n",
        "Представьте, что к вам обратился ваш менеджер продукта с предложением:\n",
        "\n",
        "\n",
        "> Мы изменили описание наших услуг продвижения на сайте и их интерфейс, чтобы сделать их более понятными и привлекательными для пользователей. Мы ожидаем, что это приведет к увеличению спроса на нашу услугу. Как понять, что стало лучше?\n",
        "\n",
        "Как же нам подойти к решению этой задачи?\n",
        "\n",
        "------\n",
        "\n",
        "Для решения такого типа задач была придумана маханика **AB-тестирования**. Она состоит из нескольких ключевых шагов:\n",
        "- Аудитория сервиса делится на 2 или более групп: контрольную, в которой не будут вноситься изменения, и тестовую, в которой будет протестирована новая функция.\n",
        "- Собираются данные в каждой из групп в течение некоторого времени.\n",
        "- Подводятся итоги теста. Показатели в разных группах сравниваются и на их основании определяется, тестируемая гипотеза успешна или нет.\n",
        "\n",
        "**Важно: перечислены не все шаги АБ-тестирования, а лишь ключевые, необходимые для понимания методологии. Далее мы будем их дополнять.**"
      ],
      "metadata": {
        "id": "phWPVLrgHMce"
      }
    },
    {
      "cell_type": "markdown",
      "source": [
        "## Часть 1. Первый АБ-тест.\n",
        "\n",
        "### Первый искусственный АБ-тест.\n",
        "\n",
        "Давайте рассмотрим теоретический пример, чтобы понять, как работает AB-тест. Определим, какую именно продуктовую гипотезу мы проверяем: рост спроса на услугу продвижения. А зачем это компании? Чтобы растить целевую метрику &mdash; выручку.  Допустим, мы хотим рассчитать рост выручки за одну неделю.\n",
        "\n",
        "\n",
        "**Когда мы получим больше выручки?** В случае, если будет внедрено новое изменение, или если его не будут применять? Чтобы ответить на этот вопрос, в идеально честной картине нам нужно сравнить выручку в 2 параллельных мирах: есть 1 мир, где раскатано изменение и другой мир, где не катили.\n",
        "\n",
        "Определим 2 выборки в идеальном кейсе:\n",
        "\n",
        "- **Выборка в мире 1**: $T_1^w, T_2^w,..., T_{N}^w$ — это выручка от **всех** пользователей за неделю в мире (world, отсюда буква $w$ 🙃), где произошло изменение.\n",
        "- **Выборка в мире 2**: $C_1^w, C_2^w,..., C_{N}^w$ — это выручка от **всех** пользователей за неделю в мире, где не было изменений.\n",
        "\n",
        "Тогда, чтобы понять, надо ли катить изменение или нет, нам надо сравнить $\\sum T^w_i$ и $\\sum C^w_i$: если сумма $T^w$ больше, то надо катить изменение, а иначе нет. Но в реальности, конечно же, такое невозможно: нельзя сделать 2 мира. Поэтому и была придумана механика АБ-тестирования, в которой всех пользователей делят на 2 группы, но уже в 1 мире.\n",
        "\n",
        "В таком случае у нас есть две выборки:\n",
        "\n",
        "- **Тестовая выборка**: $T_1, T_2,..., T_{K}$ — это выручка от пользователей за неделю, которые были в группе, где произошло изменение. Далее мы будем обозначать эту выборку буквой $T$.\n",
        "- **Контрольная выборка**: $C_1, C_2,..., C_{M}$ — это выручка пользователей за неделю из группы, где не было изменений. Эту выборку мы будем обозначать буквой $C$.\n",
        "\n",
        "Где размер контрольной + тестовой групп равно N: $K + M = N$.\n",
        "\n",
        " Dыборки $T^w, C^w$ определены для каждого пользователя, а $T, C$ известны только для какой-то части юзеров, причем у одного пользователя известно либо значение $T_i$, либо $C_i$.\n",
        "\n",
        "Как узнать, действительно ли $\\sum T^w_i > \\sum C^w_i$, имея только $T$ и $C$? Кроме этого, хочется, чтобы наши результаты были валидны не только для текущего множества из N людей, которые будут юзерами сервиса на след неделе, но и для любого другого множества пользователй из той же генеральной совокупности. Например, если в будущем в наш сервис придут новые пользователи.\n",
        "\n",
        "Здесь на помощь приходит теория вероятности и [Закон Больших Чисел (ЗБЧ)](https://ru.wikipedia.org/wiki/Закон_больших_чисел): $\\dfrac{\\sum_1^N T^w_i – C^w_i}{N} \\stackrel{p}{\\rightarrow} \\mathbb{E} [T^w – C^w], \\ N \\rightarrow \\infty$. Но ведь $\\mathbb{E} [T^w] = \\mathbb{E} [T];\\ \\mathbb{E} [C^w] = \\mathbb{E} [C]$. А значит,\n",
        "\n",
        "$$\\dfrac{\\sum_1^N T^w_i – C^w_i}{N} \\approx \\mathbb{E} [T] – \\mathbb{E} [C], \\ N \\rightarrow \\infty.$$\n",
        "\n",
        "Поэтому, чтобы определить, какая ситуация лучше — контрольная или тестовая, достаточно сравнить математические ожидания наших выборок в АБ-тесте. Такой подход позволяет нам решить две проблемы, о которых мы говорили ранее."
      ],
      "metadata": {
        "id": "cy1XBvAOHY1C"
      }
    },
    {
      "cell_type": "markdown",
      "source": [
        "----\n",
        "\n",
        "Теперь мы можем сформулировать нашу продуктовую гипотезу на языке статистики:\n",
        "\n",
        "$$\n",
        "H_0: \\mathbb{E} C = \\mathbb{E} T \\ vs. H_1: \\mathbb{E} C < \\mathbb{E} T\n",
        "$$\n",
        "\n",
        "Теперь давайте перейдем к практике и посмотрим, как это работает на искусственном примере. Рассмотрим 2 распределения выручки, которые могли бы возникнуть: без изменения и с ним."
      ],
      "metadata": {
        "id": "fqtOqgGtHkyI"
      }
    },
    {
      "cell_type": "code",
      "source": [
        "np.random.seed(42)\n",
        "control_distribution = sps.gamma(a=4, scale=4)\n",
        "test_distribution = sps.gamma(a=5, scale=4)\n",
        "\n",
        "x_ticks = np.linspace(0, 60, 1000)\n",
        "\n",
        "plt.figure(figsize=(10, 5))\n",
        "plt.title(\"Распределение выручки в тесте и в контроле.\", fontsize=12)\n",
        "plt.plot(x_ticks, control_distribution.pdf(x_ticks), color='green', label='Контроль: нет изменения')\n",
        "plt.plot(x_ticks, test_distribution.pdf(x_ticks), color='orange', label='Тест: изменили услугу')\n",
        "plt.legend(fontsize=12)\n",
        "plt.xlabel('Выручка от пользователя, руб', fontsize=12)\n",
        "plt.ylabel('Плотность распределения', fontsize=12)\n",
        "plt.show()"
      ],
      "metadata": {
        "id": "xSmfzePsEpMp",
        "colab": {
          "base_uri": "https://localhost:8080/",
          "height": 504
        },
        "outputId": "078d4f3b-3f5b-400c-a16e-7068edfe67bb"
      },
      "execution_count": null,
      "outputs": [
        {
          "output_type": "display_data",
          "data": {
            "text/plain": [
              "<Figure size 1000x500 with 1 Axes>"
            ],
            "image/png": "[encoded data removed]"
          },
          "metadata": {}
        }
      ]
    },
    {
      "cell_type": "markdown",
      "source": [
        "Мы видим, что рыжее распределение чуть \"правее\" и имеет визуально большее мат. ожидание.\n",
        "\n",
        "Насемплируем возможные выборки в тесте и в контроле."
      ],
      "metadata": {
        "id": "TJNiB6JIHqUA"
      }
    },
    {
      "cell_type": "code",
      "source": [
        "control = control_distribution.rvs(10000)\n",
        "test = test_distribution.rvs(10000)"
      ],
      "metadata": {
        "id": "dqkLT0RdHnRU"
      },
      "execution_count": null,
      "outputs": []
    },
    {
      "cell_type": "markdown",
      "source": [
        "Теперь мы можем провести T-test, чтобы проверить нашу гипотезу, и получить результаты. Но до этого нам необходимо зафиксировать уровень значимости (или FPR, false positive rate)."
      ],
      "metadata": {
        "id": "FKKlngHwHtPD"
      }
    },
    {
      "cell_type": "markdown",
      "source": [
        "#### Какая будет ошибка первого рода?\n",
        "\n",
        "В реальности это всегда не самая тривиальная задача трейдоффа между мощностью и FPR (false positive rate). Если alpha будет очень большой, то вы будете часто детектировать эффект там, где его нет. Вы будете чаще катить потенциально опасные изменения для бизнеса. А если alpha мала, то ваш бизнес будет в застое: вы не будете катить улучшающие бизнес изменения.\n",
        "\n",
        "В большинстве случаев, если вам нам с чего-то начать, то я предлагаю брать одностороннюю `alpha` на уровне 2.5%. Это решение основывается на двух факторах:\n",
        "1. Такой уровень ошибок приемлем для бизнеса. Это подтверждается опытом большинства компаний, которые используют именно такой FPR и продолжают успешно развиваться.\n",
        "2. Обычно такая `alpha` оказывается достаточно чувствительной для проверки различных гипотез, обеспечивая хорошую мощность для вашего критерия.\n",
        "\n",
        "Но при этом на практике есть множество кейсов, где выбор альфы 2.5% плох. Например:\n",
        "- Нельзя брать большую `alpha` (где даже 2.5% много), если вы заранее знаете, что ваше изменение маловероятно к чему-то приведет. Например, если вы тестируете рассылку и смотрите в качестве одной из метрик доступность сайта Авито, то брать альфу даже 1% нет смысла. Вы не повлияте рассылками на эту метрику, все прокрасы здесь ложные.\n",
        "- Нельзя брать большую `alpha`, если вы тестируете критический функционал, который потенциально может ухудшить сайт. В этом кейсе вам важна ошибка первого рода.\n",
        "- Вы можете изменять `alpha` в большую сторону, если вы знаете, что у вас наверняка есть положительное изменение. Например, вы запустили маркетинговую рекламную кампанию.\n",
        "\n",
        "Также важно помнить следующее: **односторонняя альфа и двусторонняя альфы отличаются!**\n",
        "Например, в нашем случае мы будем использовать дефолтную одностороннюю `alpha` в 2.5%. Но если мы решим использовать двусторонний критерий, то его `alpha` увеличится до 5%.\n",
        "\n",
        "В нашем кейсе мы возьмем одностороннюю альфа равной 5% по 2 причинам:\n",
        "1. Метрику выручки сложно прокрасить как мы увидим далее.\n",
        "2. Мы уверены, что наше изменение положительно повлияет на услугу продвижения, (например, в реальности такой вывод можно сделать исходя из UX-тестов). Это как раз пример 3 кейса, где альфу можно менять.\n",
        "\n",
        "### Какой критерий выбрать: односторонний или двусторонний?\n",
        "\n",
        "В нашем конкретном случае мы должны использовать односторонний критерий. Да и на практике ваша гипотеза почти всегда будет односторонней: вас интересует только улучшение(а иногда ухудшение) метрики относительно контрольной группы. В противном случае вы не будете раскатывать изменения.\n",
        "\n",
        "Однако на практике немногие применяют односторонний критерий, так как он не является универсальным. Это означает, что для разных ситуаций вам потребуется три различных критерия, проверяющих рост, падение или изменение математического ожидания метрики.\n",
        "\n",
        "Поэтому легче использовать универсальный двусторонний критерий и `alpha` в 2 раза большую."
      ],
      "metadata": {
        "id": "N4EV_8mSHvHs"
      }
    },
    {
      "cell_type": "code",
      "source": [
        "sps.ttest_ind(test, control, equal_var=False, alternative='two-sided').pvalue"
      ],
      "metadata": {
        "colab": {
          "base_uri": "https://localhost:8080/"
        },
        "id": "-wR-pJruHsWB",
        "outputId": "b5501ed9-32c1-4b36-e552-dde185090a02"
      },
      "execution_count": null,
      "outputs": [
        {
          "output_type": "execute_result",
          "data": {
            "text/plain": [
              "np.float64(5.801425609242045e-221)"
            ]
          },
          "metadata": {},
          "execution_count": 4
        }
      ]
    },
    {
      "cell_type": "markdown",
      "source": [
        "Мы видим, что двусторонний $\\text{p-value} < 0.1 (= 0.05 \\cdot 2)$, но мы не понимаем, в какую сторону у нас эффект. Поэтому давайте напишем удобную функцию-обертку над T-test, которая давала бы всю необходимую инофрмацию для двустроннего критерия: `pvalue`, `effect`, а также строила бы доверительный интервал."
      ],
      "metadata": {
        "id": "bSN9lcS9IDu-"
      }
    },
    {
      "cell_type": "code",
      "source": [
        "def absolute_ttest(control, test, two_sided_alpha):\n",
        "    mean_control = np.mean(control)\n",
        "    mean_test = np.mean(test)\n",
        "\n",
        "    var_mean_control  = np.var(control) / len(control)\n",
        "    var_mean_test  = np.var(test) / len(test)\n",
        "\n",
        "    difference_mean = mean_test - mean_control\n",
        "    difference_mean_var = var_mean_control + var_mean_test\n",
        "    difference_distribution = sps.norm(loc=difference_mean, scale=np.sqrt(difference_mean_var))\n",
        "\n",
        "    left_bound, right_bound = difference_distribution.ppf([two_sided_alpha / 2, 1 - two_sided_alpha / 2])\n",
        "    ci_length = (right_bound - left_bound)\n",
        "    pvalue = 2 * min(difference_distribution.cdf(0), difference_distribution.sf(0))\n",
        "    effect = difference_mean\n",
        "    return ExperimentComparisonResults(pvalue, effect, ci_length, left_bound, right_bound)"
      ],
      "metadata": {
        "id": "4hfBlX6FIB7U"
      },
      "execution_count": null,
      "outputs": []
    },
    {
      "cell_type": "code",
      "source": [
        "results = absolute_ttest(control, test, two_sided_alpha=0.1)\n",
        "\n",
        "print(f'Effect: {round(results.effect, 3)},({round(results.left_bound, 3)}, {round(results.right_bound, 3)})')\n",
        "print(f'two-sided pvalue: {round(results.pvalue * 100, 1)}%, one-sided pvalue: {round(results.pvalue / 2 * 100, 1)}%')"
      ],
      "metadata": {
        "colab": {
          "base_uri": "https://localhost:8080/"
        },
        "id": "CvWBevSeIGLG",
        "outputId": "b23c3646-2b3b-4a22-a4e2-c44a835d513d"
      },
      "execution_count": null,
      "outputs": [
        {
          "output_type": "stream",
          "name": "stdout",
          "text": [
            "Effect: 3.859,(3.662, 4.057)\n",
            "two-sided pvalue: 0.0%, one-sided pvalue: 0.0%\n"
          ]
        }
      ]
    },
    {
      "cell_type": "markdown",
      "source": [
        "Это значит, что мы можем отвергнуть гипотезу в пользу $H_1$ на уровне значимости 5% (одностороннем) и внедрять изменения.\n",
        "\n",
        "\n",
        "### Как делить пользователей?\n",
        "\n",
        "Важно отметить, что для корректной работы T-test необходимо, чтобы тестовые и контрольные группы пользователей были репрезентативны для рыжего и зеленого распределений (в случае изменения и без него).  Для этого достаточно поделить пользователей вашего сервиса **случайно**, что следует из свойств распределения и после небольших махинаций с теорвером. У вас не будет никакого смещения и мат. ожидание тестовых и контрольных выборок будут равны $\\mathbb{E} T^w$ и $\\mathbb{E} C^w$ соответственно.\n",
        "\n",
        "В таком кейсе вы гарантируете, что ваши выборки не будут смещены относительно генеральной совокупности, а также репрезентативны.\n",
        "\n",
        "\n",
        "----\n",
        "\n",
        "**Итоги:**\n",
        "\n",
        "Из этой части мы выяснили:\n",
        "- Какую статистическую гипотезу следует использовать в нашем AB-тесте.\n",
        "- Какой критерий использовать на практике.\n",
        "- Как разделить пользователей на группы. Случайное разбиение является достаточным.\n",
        "\n",
        "Теперь мы готовы перейти к AB-тесту на реальных данных и посмотреть, что у нас получится."
      ],
      "metadata": {
        "id": "pP8-mpshILZ_"
      }
    },
    {
      "cell_type": "markdown",
      "source": [
        "### AB-тест на реальных данных с плохим дизайном\n",
        "\n",
        "Теперь давайте рассмотрим, как AB-тестирование работает на практике, используя реальные данные:\n",
        "\n",
        "- **Статистическая гипотеза**: $H_0:$ выручка не изменилась или упала VS. $H_1:$ выручка выросла\n",
        "- **Сплитование пользователей**: Мы случайным образом разделим всех пользователей сервиса на две группы: контрольную и тестовую, но в каждой из которых будет по 10% от общего трафика. То есть мы будем прводить наш AB на 20% пользователей Авито. В контрольной группе мы оставим все как есть, а в тестовой запустим новое описание услуги.\n",
        "    - Почему так мало пользователей в эксперименте? Мы опасаемся, что другие AB-тесты, которые проводятся параллельно, могут повлиять на результаты нашего анализа и сделать их невалидными. Чем меньше размер выборки, тем более вероятно, что вы сможете найти \"чистых\" пользоватлей, не находящихся ни в чьем другом эксперименте.  \n",
        "- **Длительность теста**: Как и в искусственном примере, мы проведем эксперимент в течение одной недели.\n",
        "- **Анализ результатов**: Мы воспользуемся t-тестом для получения стат. значимых результатов.\n",
        "\n",
        "Давайте наконец приступим к анализу реальных данных!"
      ],
      "metadata": {
        "id": "QHA9t1SiIXwb"
      }
    },
    {
      "cell_type": "code",
      "source": [
        "exp_df = pd.read_csv('simple_df_ab1.csv')"
      ],
      "metadata": {
        "id": "WvcnCHilIIek"
      },
      "execution_count": null,
      "outputs": []
    },
    {
      "cell_type": "code",
      "source": [
        "exp_df.head()"
      ],
      "metadata": {
        "colab": {
          "base_uri": "https://localhost:8080/",
          "height": 206
        },
        "id": "z4qXcSFOImxf",
        "outputId": "12e67b4d-8620-41cf-bdf9-5b3f65026f61"
      },
      "execution_count": null,
      "outputs": [
        {
          "output_type": "execute_result",
          "data": {
            "text/plain": [
              "     user_id    group  promotion_revenue\n",
              "0  328005191  control           0.000000\n",
              "1  328017524     test         675.043322\n",
              "2  328018610     test           0.000000\n",
              "3  328022724     test           0.000000\n",
              "4  328023511     test           0.000000"
            ],
            "text/html": [
              "\n",
              "  <div id=\"df-d91e77a4-7778-4980-8769-d22d1647bbec\" class=\"colab-df-container\">\n",
              "    <div>\n",
              "<style scoped>\n",
              "    .dataframe tbody tr th:only-of-type {\n",
              "        vertical-align: middle;\n",
              "    }\n",
              "\n",
              "    .dataframe tbody tr th {\n",
              "        vertical-align: top;\n",
              "    }\n",
              "\n",
              "    .dataframe thead th {\n",
              "        text-align: right;\n",
              "    }\n",
              "</style>\n",
              "<table border=\"1\" class=\"dataframe\">\n",
              "  <thead>\n",
              "    <tr style=\"text-align: right;\">\n",
              "      <th></th>\n",
              "      <th>user_id</th>\n",
              "      <th>group</th>\n",
              "      <th>promotion_revenue</th>\n",
              "    </tr>\n",
              "  </thead>\n",
              "  <tbody>\n",
              "    <tr>\n",
              "      <th>0</th>\n",
              "      <td>328005191</td>\n",
              "      <td>control</td>\n",
              "      <td>0.000000</td>\n",
              "    </tr>\n",
              "    <tr>\n",
              "      <th>1</th>\n",
              "      <td>328017524</td>\n",
              "      <td>test</td>\n",
              "      <td>675.043322</td>\n",
              "    </tr>\n",
              "    <tr>\n",
              "      <th>2</th>\n",
              "      <td>328018610</td>\n",
              "      <td>test</td>\n",
              "      <td>0.000000</td>\n",
              "    </tr>\n",
              "    <tr>\n",
              "      <th>3</th>\n",
              "      <td>328022724</td>\n",
              "      <td>test</td>\n",
              "      <td>0.000000</td>\n",
              "    </tr>\n",
              "    <tr>\n",
              "      <th>4</th>\n",
              "      <td>328023511</td>\n",
              "      <td>test</td>\n",
              "      <td>0.000000</td>\n",
              "    </tr>\n",
              "  </tbody>\n",
              "</table>\n",
              "</div>\n",
              "    <div class=\"colab-df-buttons\">\n",
              "\n",
              "  <div class=\"colab-df-container\">\n",
              "    <button class=\"colab-df-convert\" onclick=\"convertToInteractive('df-d91e77a4-7778-4980-8769-d22d1647bbec')\"\n",
              "            title=\"Convert this dataframe to an interactive table.\"\n",
              "            style=\"display:none;\">\n",
              "\n",
              "  <svg xmlns=\"http://www.w3.org/2000/svg\" height=\"24px\" viewBox=\"0 -960 960 960\">\n",
              "    <path d=\"M120-120v-720h720v720H120Zm60-500h600v-160H180v160Zm220 220h160v-160H400v160Zm0 220h160v-160H400v160ZM180-400h160v-160H180v160Zm440 0h160v-160H620v160ZM180-180h160v-160H180v160Zm440 0h160v-160H620v160Z\"/>\n",
              "  </svg>\n",
              "    </button>\n",
              "\n",
              "  <style>\n",
              "    .colab-df-container {\n",
              "      display:flex;\n",
              "      gap: 12px;\n",
              "    }\n",
              "\n",
              "    .colab-df-convert {\n",
              "      background-color: #E8F0FE;\n",
              "      border: none;\n",
              "      border-radius: 50%;\n",
              "      cursor: pointer;\n",
              "      display: none;\n",
              "      fill: #1967D2;\n",
              "      height: 32px;\n",
              "      padding: 0 0 0 0;\n",
              "      width: 32px;\n",
              "    }\n",
              "\n",
              "    .colab-df-convert:hover {\n",
              "      background-color: #E2EBFA;\n",
              "      box-shadow: 0px 1px 2px rgba(60, 64, 67, 0.3), 0px 1px 3px 1px rgba(60, 64, 67, 0.15);\n",
              "      fill: #174EA6;\n",
              "    }\n",
              "\n",
              "    .colab-df-buttons div {\n",
              "      margin-bottom: 4px;\n",
              "    }\n",
              "\n",
              "    [theme=dark] .colab-df-convert {\n",
              "      background-color: #3B4455;\n",
              "      fill: #D2E3FC;\n",
              "    }\n",
              "\n",
              "    [theme=dark] .colab-df-convert:hover {\n",
              "      background-color: #434B5C;\n",
              "      box-shadow: 0px 1px 3px 1px rgba(0, 0, 0, 0.15);\n",
              "      filter: drop-shadow(0px 1px 2px rgba(0, 0, 0, 0.3));\n",
              "      fill: #FFFFFF;\n",
              "    }\n",
              "  </style>\n",
              "\n",
              "    <script>\n",
              "      const buttonEl =\n",
              "        document.querySelector('#df-d91e77a4-7778-4980-8769-d22d1647bbec button.colab-df-convert');\n",
              "      buttonEl.style.display =\n",
              "        google.colab.kernel.accessAllowed ? 'block' : 'none';\n",
              "\n",
              "      async function convertToInteractive(key) {\n",
              "        const element = document.querySelector('#df-d91e77a4-7778-4980-8769-d22d1647bbec');\n",
              "        const dataTable =\n",
              "          await google.colab.kernel.invokeFunction('convertToInteractive',\n",
              "                                                    [key], {});\n",
              "        if (!dataTable) return;\n",
              "\n",
              "        const docLinkHtml = 'Like what you see? Visit the ' +\n",
              "          '<a target=\"_blank\" href=https://colab.research.google.com/notebooks/data_table.ipynb>data table notebook</a>'\n",
              "          + ' to learn more about interactive tables.';\n",
              "        element.innerHTML = '';\n",
              "        dataTable['output_type'] = 'display_data';\n",
              "        await google.colab.output.renderOutput(dataTable, element);\n",
              "        const docLink = document.createElement('div');\n",
              "        docLink.innerHTML = docLinkHtml;\n",
              "        element.appendChild(docLink);\n",
              "      }\n",
              "    </script>\n",
              "  </div>\n",
              "\n",
              "\n",
              "    <div id=\"df-92e37d9e-b7f0-4690-a4ac-4d612f8af8a4\">\n",
              "      <button class=\"colab-df-quickchart\" onclick=\"quickchart('df-92e37d9e-b7f0-4690-a4ac-4d612f8af8a4')\"\n",
              "                title=\"Suggest charts\"\n",
              "                style=\"display:none;\">\n",
              "\n",
              "<svg xmlns=\"http://www.w3.org/2000/svg\" height=\"24px\"viewBox=\"0 0 24 24\"\n",
              "     width=\"24px\">\n",
              "    <g>\n",
              "        <path d=\"M19 3H5c-1.1 0-2 .9-2 2v14c0 1.1.9 2 2 2h14c1.1 0 2-.9 2-2V5c0-1.1-.9-2-2-2zM9 17H7v-7h2v7zm4 0h-2V7h2v10zm4 0h-2v-4h2v4z\"/>\n",
              "    </g>\n",
              "</svg>\n",
              "      </button>\n",
              "\n",
              "<style>\n",
              "  .colab-df-quickchart {\n",
              "      --bg-color: #E8F0FE;\n",
              "      --fill-color: #1967D2;\n",
              "      --hover-bg-color: #E2EBFA;\n",
              "      --hover-fill-color: #174EA6;\n",
              "      --disabled-fill-color: #AAA;\n",
              "      --disabled-bg-color: #DDD;\n",
              "  }\n",
              "\n",
              "  [theme=dark] .colab-df-quickchart {\n",
              "      --bg-color: #3B4455;\n",
              "      --fill-color: #D2E3FC;\n",
              "      --hover-bg-color: #434B5C;\n",
              "      --hover-fill-color: #FFFFFF;\n",
              "      --disabled-bg-color: #3B4455;\n",
              "      --disabled-fill-color: #666;\n",
              "  }\n",
              "\n",
              "  .colab-df-quickchart {\n",
              "    background-color: var(--bg-color);\n",
              "    border: none;\n",
              "    border-radius: 50%;\n",
              "    cursor: pointer;\n",
              "    display: none;\n",
              "    fill: var(--fill-color);\n",
              "    height: 32px;\n",
              "    padding: 0;\n",
              "    width: 32px;\n",
              "  }\n",
              "\n",
              "  .colab-df-quickchart:hover {\n",
              "    background-color: var(--hover-bg-color);\n",
              "    box-shadow: 0 1px 2px rgba(60, 64, 67, 0.3), 0 1px 3px 1px rgba(60, 64, 67, 0.15);\n",
              "    fill: var(--button-hover-fill-color);\n",
              "  }\n",
              "\n",
              "  .colab-df-quickchart-complete:disabled,\n",
              "  .colab-df-quickchart-complete:disabled:hover {\n",
              "    background-color: var(--disabled-bg-color);\n",
              "    fill: var(--disabled-fill-color);\n",
              "    box-shadow: none;\n",
              "  }\n",
              "\n",
              "  .colab-df-spinner {\n",
              "    border: 2px solid var(--fill-color);\n",
              "    border-color: transparent;\n",
              "    border-bottom-color: var(--fill-color);\n",
              "    animation:\n",
              "      spin 1s steps(1) infinite;\n",
              "  }\n",
              "\n",
              "  @keyframes spin {\n",
              "    0% {\n",
              "      border-color: transparent;\n",
              "      border-bottom-color: var(--fill-color);\n",
              "      border-left-color: var(--fill-color);\n",
              "    }\n",
              "    20% {\n",
              "      border-color: transparent;\n",
              "      border-left-color: var(--fill-color);\n",
              "      border-top-color: var(--fill-color);\n",
              "    }\n",
              "    30% {\n",
              "      border-color: transparent;\n",
              "      border-left-color: var(--fill-color);\n",
              "      border-top-color: var(--fill-color);\n",
              "      border-right-color: var(--fill-color);\n",
              "    }\n",
              "    40% {\n",
              "      border-color: transparent;\n",
              "      border-right-color: var(--fill-color);\n",
              "      border-top-color: var(--fill-color);\n",
              "    }\n",
              "    60% {\n",
              "      border-color: transparent;\n",
              "      border-right-color: var(--fill-color);\n",
              "    }\n",
              "    80% {\n",
              "      border-color: transparent;\n",
              "      border-right-color: var(--fill-color);\n",
              "      border-bottom-color: var(--fill-color);\n",
              "    }\n",
              "    90% {\n",
              "      border-color: transparent;\n",
              "      border-bottom-color: var(--fill-color);\n",
              "    }\n",
              "  }\n",
              "</style>\n",
              "\n",
              "      <script>\n",
              "        async function quickchart(key) {\n",
              "          const quickchartButtonEl =\n",
              "            document.querySelector('#' + key + ' button');\n",
              "          quickchartButtonEl.disabled = true;  // To prevent multiple clicks.\n",
              "          quickchartButtonEl.classList.add('colab-df-spinner');\n",
              "          try {\n",
              "            const charts = await google.colab.kernel.invokeFunction(\n",
              "                'suggestCharts', [key], {});\n",
              "          } catch (error) {\n",
              "            console.error('Error during call to suggestCharts:', error);\n",
              "          }\n",
              "          quickchartButtonEl.classList.remove('colab-df-spinner');\n",
              "          quickchartButtonEl.classList.add('colab-df-quickchart-complete');\n",
              "        }\n",
              "        (() => {\n",
              "          let quickchartButtonEl =\n",
              "            document.querySelector('#df-92e37d9e-b7f0-4690-a4ac-4d612f8af8a4 button');\n",
              "          quickchartButtonEl.style.display =\n",
              "            google.colab.kernel.accessAllowed ? 'block' : 'none';\n",
              "        })();\n",
              "      </script>\n",
              "    </div>\n",
              "    </div>\n",
              "  </div>\n"
            ],
            "application/vnd.google.colaboratory.intrinsic+json": {
              "type": "dataframe",
              "variable_name": "exp_df",
              "summary": "{\n  \"name\": \"exp_df\",\n  \"rows\": 8235,\n  \"fields\": [\n    {\n      \"column\": \"user_id\",\n      \"properties\": {\n        \"dtype\": \"number\",\n        \"std\": 23438707954,\n        \"min\": 328005191,\n        \"max\": 274131750010,\n        \"num_unique_values\": 8235,\n        \"samples\": [\n          330916791,\n          393326689,\n          3125000374\n        ],\n        \"semantic_type\": \"\",\n        \"description\": \"\"\n      }\n    },\n    {\n      \"column\": \"group\",\n      \"properties\": {\n        \"dtype\": \"category\",\n        \"num_unique_values\": 2,\n        \"samples\": [\n          \"test\",\n          \"control\"\n        ],\n        \"semantic_type\": \"\",\n        \"description\": \"\"\n      }\n    },\n    {\n      \"column\": \"promotion_revenue\",\n      \"properties\": {\n        \"dtype\": \"number\",\n        \"std\": 777.8185740641372,\n        \"min\": 0.0,\n        \"max\": 25267.899800660063,\n        \"num_unique_values\": 2154,\n        \"samples\": [\n          997.3575640519448,\n          1204.657655830663\n        ],\n        \"semantic_type\": \"\",\n        \"description\": \"\"\n      }\n    }\n  ]\n}"
            }
          },
          "metadata": {},
          "execution_count": 8
        }
      ]
    },
    {
      "cell_type": "markdown",
      "source": [
        "У нас 3 столбца: пользователь, его группа и выручка от него в услугах продвижения.\n",
        "\n",
        "Посмотрим, как распределена выручка:"
      ],
      "metadata": {
        "id": "DnY5dmyCIqig"
      }
    },
    {
      "cell_type": "code",
      "source": [
        "test = np.array(exp_df[(exp_df['group'] == 'test')]['promotion_revenue'])\n",
        "control = np.array(exp_df[(exp_df['group'] == 'control')]['promotion_revenue'])\n",
        "\n",
        "plt.figure(figsize=(10, 5))\n",
        "plt.title('Распределение выручки в тесте и в контроле', fontsize=12)\n",
        "sns.distplot(test, label='test')\n",
        "sns.distplot(control, label='control')\n",
        "plt.legend(fontsize=12)\n",
        "plt.xlabel(\"Выручка\", fontsize=12)\n",
        "plt.show()"
      ],
      "metadata": {
        "colab": {
          "base_uri": "https://localhost:8080/",
          "height": 504
        },
        "id": "x8R6isTqIn8s",
        "outputId": "51a88202-c19a-419d-9aea-782980588816"
      },
      "execution_count": null,
      "outputs": [
        {
          "output_type": "display_data",
          "data": {
            "text/plain": [
              "<Figure size 1000x500 with 1 Axes>"
            ],
            "image/png": "[encoded data removed]"
          },
          "metadata": {}
        }
      ]
    },
    {
      "cell_type": "markdown",
      "source": [
        "Как видно, у нас есть как мелкие пользователи, так и очень крупные."
      ],
      "metadata": {
        "id": "r4c5p8yDIthX"
      }
    },
    {
      "cell_type": "code",
      "source": [
        "test = np.array(exp_df[(exp_df['group'] == 'test')]['promotion_revenue'])\n",
        "control = np.array(exp_df[(exp_df['group'] == 'control')]['promotion_revenue'])"
      ],
      "metadata": {
        "id": "WhcVaI6TIsTz"
      },
      "execution_count": null,
      "outputs": []
    },
    {
      "cell_type": "markdown",
      "source": [
        "Давайте проанализируем, как увеличилась выручка на одного пользователя:"
      ],
      "metadata": {
        "id": "p5xr2oWAI2fa"
      }
    },
    {
      "cell_type": "code",
      "source": [
        "revenue_uplift_per_user = np.mean(test) - np.mean(control)\n",
        "print(f\"оценка прироста выручки на пользователя: {round(revenue_uplift_per_user, 2)} руб.\")"
      ],
      "metadata": {
        "colab": {
          "base_uri": "https://localhost:8080/"
        },
        "id": "A1xhT52FI0bp",
        "outputId": "4a55c462-3c34-4dd0-e116-e4a16e109741"
      },
      "execution_count": null,
      "outputs": [
        {
          "output_type": "stream",
          "name": "stdout",
          "text": [
            "оценка прироста выручки на пользователя: 16.31 руб.\n"
          ]
        }
      ]
    },
    {
      "cell_type": "code",
      "source": [
        "results = absolute_ttest(control, test, two_sided_alpha=0.1)\n",
        "\n",
        "print(f'Effect: {round(results.effect, 1)} руб,({round(results.left_bound, 1)}, {round(results.right_bound, 1)})')\n",
        "print(f'two-sided pvalue: {round(results.pvalue * 100, 1)}%, one-sided pvalue: {round(results.pvalue / 2 * 100, 1)}%')"
      ],
      "metadata": {
        "colab": {
          "base_uri": "https://localhost:8080/"
        },
        "id": "WVnNMilnI38E",
        "outputId": "e4788e57-c37a-4ae6-87dc-be7527b5ffb9"
      },
      "execution_count": null,
      "outputs": [
        {
          "output_type": "stream",
          "name": "stdout",
          "text": [
            "Effect: 16.3 руб,(-11.9, 44.5)\n",
            "two-sided pvalue: 34.1%, one-sided pvalue: 17.1%\n"
          ]
        }
      ]
    },
    {
      "cell_type": "markdown",
      "source": [
        "В результате теста мы получили p-value больше 5%, что означает, что тест был «серым». Мы не можем точно сказать, стало лучше или хуже.\n",
        "\n",
        "Как быть в такой ситуации? Мы не можем внедрить изменение, поскольку нет уверенности, что мы не вырастили выручку.\n",
        "\n",
        "В подобных случаях неопытный аналитик сразу говорит, что нельзя внедрять изменение, а хороший аналитик никогда бы не запустил такой тест)"
      ],
      "metadata": {
        "id": "_zye6QGpI8Xs"
      }
    },
    {
      "cell_type": "markdown",
      "source": [
        "**Первое, что необходимо было сделать, это убедиться, что вы действительно могли обнаружить ожидаемое изменение.** Давайте вспомним, что такое [MDE — минимальный детектируемый эффект](https://github.com/avito-tech/applied_statistics/blob/main/Stat%20power.ipynb).\n",
        "\n",
        "- Если MDE очень большой (например, нужно увеличить выручку на 100%), то понятно, почему вы не заметили статистически значимого эффекта.\n",
        "- Если MDE небольшой, то есть он меньше ожидаемого вами прироста выручки, то ваш AB-тест хорошо подготовлен, и нужно искать другие причины, почему он не сработал. Но об этом мы поговорим в другой раз.\n",
        "\n",
        "Давайте проверим MDE нашего теста. Вспомним, как выглядит формула MDE для t-теста:\n",
        "\n",
        "$MDE = \\left(z_{1-\\alpha} + z_{1-\\beta}\\right)  \\cdot \\sqrt{\\dfrac{S^2_T}{N} + \\dfrac{S^2_C}{M}}$, где $N$ и $M$ — размеры теста и контроля.\n",
        "\n",
        "Какую мощность выбрать? Давайте возьмем 80%: если эффект есть, то в 4 из 5 кейсов мы его обнаружим.\n",
        "\n",
        "Тогда наш MDE в эксперименте будет выглядеть следующим образом:"
      ],
      "metadata": {
        "id": "ofKLrI56I_uI"
      }
    },
    {
      "cell_type": "code",
      "source": [
        "alpha = 0.05\n",
        "beta = 0.2\n",
        "MDE_absolute = (sps.norm().ppf(1 - alpha) + sps.norm().ppf(1 - beta)) * np.sqrt(np.var(test) / len(test) + np.var(control)  / len(control))\n",
        "MDE_absolute"
      ],
      "metadata": {
        "colab": {
          "base_uri": "https://localhost:8080/"
        },
        "id": "6fLvyDEzI5VC",
        "outputId": "634765da-eeb3-4e2b-901f-900c1a338ada"
      },
      "execution_count": null,
      "outputs": [
        {
          "output_type": "execute_result",
          "data": {
            "text/plain": [
              "np.float64(42.620918220693696)"
            ]
          },
          "metadata": {},
          "execution_count": 13
        }
      ]
    },
    {
      "cell_type": "markdown",
      "source": [
        "42 рубля в среднем на человека – это много или мало? Сложно сказать. Давайте посмотрим, как это соотносится со средней выручкой, чтобы понять, насколько эта сумма велика."
      ],
      "metadata": {
        "id": "7or9268mJGsk"
      }
    },
    {
      "cell_type": "code",
      "source": [
        "MDE_rel = MDE_absolute / np.mean(control)\n",
        "print(f\"Относительный MDE для метрики выручки на пользователя равен {round(MDE_rel * 100, 1)}%\")"
      ],
      "metadata": {
        "colab": {
          "base_uri": "https://localhost:8080/"
        },
        "id": "VJ-zwDG7JEW0",
        "outputId": "1a7c556c-6ea1-4f68-8564-90984df1d548"
      },
      "execution_count": null,
      "outputs": [
        {
          "output_type": "stream",
          "name": "stdout",
          "text": [
            "Относительный MDE для метрики выручки равен 15.8%\n"
          ]
        }
      ]
    },
    {
      "cell_type": "markdown",
      "source": [
        "Чтобы заметить изменения в выручке, нам нужно было увеличить её в нашем эксперименте на 16% благодаря нововведению. Очевидно, что изменение дизайна в уже существующем сервисе не может привести к таким результатам. Поэтому данный AB-тест оказался бессмысленным.\n",
        "\n",
        "А могли ли мы это понять до того, как провели эксперимент?"
      ],
      "metadata": {
        "id": "V33COKwqJLm3"
      }
    },
    {
      "cell_type": "markdown",
      "source": [
        "### Предсказание MDE до начала эксперимента\n",
        "\n",
        "Сегодня мы уже научились определять MDE после завершения эксперимента. Это интересно, но не имеет практического значения. Обнаружить после проведения теста, что он оказался бесполезным, было бы неразумно и привело бы к пустой трате ресурсов и времени компании.\n",
        "\n",
        "Поэтому важно научиться прогнозировать, будет ли AB-тест иметь смысл и какой у него будет MDE. Для этого была разработана следующая методика:\n",
        "\n",
        "1. Собирается исторический набор данных, желательно максимально приближенный к запланированному началу реального AB-теста.\n",
        "2. Запускается АА-тест на основе собранных данных с теми же параметрами, что и в предполагаемом эксперименте. Важно отметить, что в АА-тесте нет различий между тестируемой и контрольной группами.\n",
        "3. На основе результатов АА-теста рассчитывается MDE, как в реальном AB-тесте.\n",
        "\n",
        "Практика показывает, что этот метод позволяет с высокой точностью предсказать относительный MDE эксперимента. Давайте рассмотрим его в действии."
      ],
      "metadata": {
        "id": "v2yLE-CgJN70"
      }
    },
    {
      "cell_type": "markdown",
      "source": [
        "----\n",
        "\n",
        "#### 1. Сбор датасета"
      ],
      "metadata": {
        "id": "G6rfYG84JSUl"
      }
    },
    {
      "cell_type": "code",
      "source": [
        "before_exp_dataset = pd.read_csv('before_exp_dataset_ab1.csv')"
      ],
      "metadata": {
        "id": "-W5OJT5iJJUl"
      },
      "execution_count": null,
      "outputs": []
    },
    {
      "cell_type": "code",
      "source": [
        "before_exp_dataset.head()"
      ],
      "metadata": {
        "colab": {
          "base_uri": "https://localhost:8080/",
          "height": 206
        },
        "id": "UEYpFoRaJawa",
        "outputId": "dd052aa1-c3ba-4e92-b7a0-6d448ce9fe05"
      },
      "execution_count": null,
      "outputs": [
        {
          "output_type": "execute_result",
          "data": {
            "text/plain": [
              "      user_id  week_dt  promotion_revenue  promotion_listings  \\\n",
              "0  4154500915       27           0.000000                   0   \n",
              "1   383176571       22           0.000000                   0   \n",
              "2   335040081       26         767.824001                   1   \n",
              "3   408303511       22           0.000000                   0   \n",
              "4   391600045       30           0.000000                   0   \n",
              "\n",
              "   promotion_listers  \n",
              "0                  0  \n",
              "1                  0  \n",
              "2                  1  \n",
              "3                  0  \n",
              "4                  0  "
            ],
            "text/html": [
              "\n",
              "  <div id=\"df-f8739997-44fe-4153-8dca-b2947443e0c9\" class=\"colab-df-container\">\n",
              "    <div>\n",
              "<style scoped>\n",
              "    .dataframe tbody tr th:only-of-type {\n",
              "        vertical-align: middle;\n",
              "    }\n",
              "\n",
              "    .dataframe tbody tr th {\n",
              "        vertical-align: top;\n",
              "    }\n",
              "\n",
              "    .dataframe thead th {\n",
              "        text-align: right;\n",
              "    }\n",
              "</style>\n",
              "<table border=\"1\" class=\"dataframe\">\n",
              "  <thead>\n",
              "    <tr style=\"text-align: right;\">\n",
              "      <th></th>\n",
              "      <th>user_id</th>\n",
              "      <th>week_dt</th>\n",
              "      <th>promotion_revenue</th>\n",
              "      <th>promotion_listings</th>\n",
              "      <th>promotion_listers</th>\n",
              "    </tr>\n",
              "  </thead>\n",
              "  <tbody>\n",
              "    <tr>\n",
              "      <th>0</th>\n",
              "      <td>4154500915</td>\n",
              "      <td>27</td>\n",
              "      <td>0.000000</td>\n",
              "      <td>0</td>\n",
              "      <td>0</td>\n",
              "    </tr>\n",
              "    <tr>\n",
              "      <th>1</th>\n",
              "      <td>383176571</td>\n",
              "      <td>22</td>\n",
              "      <td>0.000000</td>\n",
              "      <td>0</td>\n",
              "      <td>0</td>\n",
              "    </tr>\n",
              "    <tr>\n",
              "      <th>2</th>\n",
              "      <td>335040081</td>\n",
              "      <td>26</td>\n",
              "      <td>767.824001</td>\n",
              "      <td>1</td>\n",
              "      <td>1</td>\n",
              "    </tr>\n",
              "    <tr>\n",
              "      <th>3</th>\n",
              "      <td>408303511</td>\n",
              "      <td>22</td>\n",
              "      <td>0.000000</td>\n",
              "      <td>0</td>\n",
              "      <td>0</td>\n",
              "    </tr>\n",
              "    <tr>\n",
              "      <th>4</th>\n",
              "      <td>391600045</td>\n",
              "      <td>30</td>\n",
              "      <td>0.000000</td>\n",
              "      <td>0</td>\n",
              "      <td>0</td>\n",
              "    </tr>\n",
              "  </tbody>\n",
              "</table>\n",
              "</div>\n",
              "    <div class=\"colab-df-buttons\">\n",
              "\n",
              "  <div class=\"colab-df-container\">\n",
              "    <button class=\"colab-df-convert\" onclick=\"convertToInteractive('df-f8739997-44fe-4153-8dca-b2947443e0c9')\"\n",
              "            title=\"Convert this dataframe to an interactive table.\"\n",
              "            style=\"display:none;\">\n",
              "\n",
              "  <svg xmlns=\"http://www.w3.org/2000/svg\" height=\"24px\" viewBox=\"0 -960 960 960\">\n",
              "    <path d=\"M120-120v-720h720v720H120Zm60-500h600v-160H180v160Zm220 220h160v-160H400v160Zm0 220h160v-160H400v160ZM180-400h160v-160H180v160Zm440 0h160v-160H620v160ZM180-180h160v-160H180v160Zm440 0h160v-160H620v160Z\"/>\n",
              "  </svg>\n",
              "    </button>\n",
              "\n",
              "  <style>\n",
              "    .colab-df-container {\n",
              "      display:flex;\n",
              "      gap: 12px;\n",
              "    }\n",
              "\n",
              "    .colab-df-convert {\n",
              "      background-color: #E8F0FE;\n",
              "      border: none;\n",
              "      border-radius: 50%;\n",
              "      cursor: pointer;\n",
              "      display: none;\n",
              "      fill: #1967D2;\n",
              "      height: 32px;\n",
              "      padding: 0 0 0 0;\n",
              "      width: 32px;\n",
              "    }\n",
              "\n",
              "    .colab-df-convert:hover {\n",
              "      background-color: #E2EBFA;\n",
              "      box-shadow: 0px 1px 2px rgba(60, 64, 67, 0.3), 0px 1px 3px 1px rgba(60, 64, 67, 0.15);\n",
              "      fill: #174EA6;\n",
              "    }\n",
              "\n",
              "    .colab-df-buttons div {\n",
              "      margin-bottom: 4px;\n",
              "    }\n",
              "\n",
              "    [theme=dark] .colab-df-convert {\n",
              "      background-color: #3B4455;\n",
              "      fill: #D2E3FC;\n",
              "    }\n",
              "\n",
              "    [theme=dark] .colab-df-convert:hover {\n",
              "      background-color: #434B5C;\n",
              "      box-shadow: 0px 1px 3px 1px rgba(0, 0, 0, 0.15);\n",
              "      filter: drop-shadow(0px 1px 2px rgba(0, 0, 0, 0.3));\n",
              "      fill: #FFFFFF;\n",
              "    }\n",
              "  </style>\n",
              "\n",
              "    <script>\n",
              "      const buttonEl =\n",
              "        document.querySelector('#df-f8739997-44fe-4153-8dca-b2947443e0c9 button.colab-df-convert');\n",
              "      buttonEl.style.display =\n",
              "        google.colab.kernel.accessAllowed ? 'block' : 'none';\n",
              "\n",
              "      async function convertToInteractive(key) {\n",
              "        const element = document.querySelector('#df-f8739997-44fe-4153-8dca-b2947443e0c9');\n",
              "        const dataTable =\n",
              "          await google.colab.kernel.invokeFunction('convertToInteractive',\n",
              "                                                    [key], {});\n",
              "        if (!dataTable) return;\n",
              "\n",
              "        const docLinkHtml = 'Like what you see? Visit the ' +\n",
              "          '<a target=\"_blank\" href=https://colab.research.google.com/notebooks/data_table.ipynb>data table notebook</a>'\n",
              "          + ' to learn more about interactive tables.';\n",
              "        element.innerHTML = '';\n",
              "        dataTable['output_type'] = 'display_data';\n",
              "        await google.colab.output.renderOutput(dataTable, element);\n",
              "        const docLink = document.createElement('div');\n",
              "        docLink.innerHTML = docLinkHtml;\n",
              "        element.appendChild(docLink);\n",
              "      }\n",
              "    </script>\n",
              "  </div>\n",
              "\n",
              "\n",
              "    <div id=\"df-8fb8ae66-5546-4723-96cd-b9dc0ad5bf72\">\n",
              "      <button class=\"colab-df-quickchart\" onclick=\"quickchart('df-8fb8ae66-5546-4723-96cd-b9dc0ad5bf72')\"\n",
              "                title=\"Suggest charts\"\n",
              "                style=\"display:none;\">\n",
              "\n",
              "<svg xmlns=\"http://www.w3.org/2000/svg\" height=\"24px\"viewBox=\"0 0 24 24\"\n",
              "     width=\"24px\">\n",
              "    <g>\n",
              "        <path d=\"M19 3H5c-1.1 0-2 .9-2 2v14c0 1.1.9 2 2 2h14c1.1 0 2-.9 2-2V5c0-1.1-.9-2-2-2zM9 17H7v-7h2v7zm4 0h-2V7h2v10zm4 0h-2v-4h2v4z\"/>\n",
              "    </g>\n",
              "</svg>\n",
              "      </button>\n",
              "\n",
              "<style>\n",
              "  .colab-df-quickchart {\n",
              "      --bg-color: #E8F0FE;\n",
              "      --fill-color: #1967D2;\n",
              "      --hover-bg-color: #E2EBFA;\n",
              "      --hover-fill-color: #174EA6;\n",
              "      --disabled-fill-color: #AAA;\n",
              "      --disabled-bg-color: #DDD;\n",
              "  }\n",
              "\n",
              "  [theme=dark] .colab-df-quickchart {\n",
              "      --bg-color: #3B4455;\n",
              "      --fill-color: #D2E3FC;\n",
              "      --hover-bg-color: #434B5C;\n",
              "      --hover-fill-color: #FFFFFF;\n",
              "      --disabled-bg-color: #3B4455;\n",
              "      --disabled-fill-color: #666;\n",
              "  }\n",
              "\n",
              "  .colab-df-quickchart {\n",
              "    background-color: var(--bg-color);\n",
              "    border: none;\n",
              "    border-radius: 50%;\n",
              "    cursor: pointer;\n",
              "    display: none;\n",
              "    fill: var(--fill-color);\n",
              "    height: 32px;\n",
              "    padding: 0;\n",
              "    width: 32px;\n",
              "  }\n",
              "\n",
              "  .colab-df-quickchart:hover {\n",
              "    background-color: var(--hover-bg-color);\n",
              "    box-shadow: 0 1px 2px rgba(60, 64, 67, 0.3), 0 1px 3px 1px rgba(60, 64, 67, 0.15);\n",
              "    fill: var(--button-hover-fill-color);\n",
              "  }\n",
              "\n",
              "  .colab-df-quickchart-complete:disabled,\n",
              "  .colab-df-quickchart-complete:disabled:hover {\n",
              "    background-color: var(--disabled-bg-color);\n",
              "    fill: var(--disabled-fill-color);\n",
              "    box-shadow: none;\n",
              "  }\n",
              "\n",
              "  .colab-df-spinner {\n",
              "    border: 2px solid var(--fill-color);\n",
              "    border-color: transparent;\n",
              "    border-bottom-color: var(--fill-color);\n",
              "    animation:\n",
              "      spin 1s steps(1) infinite;\n",
              "  }\n",
              "\n",
              "  @keyframes spin {\n",
              "    0% {\n",
              "      border-color: transparent;\n",
              "      border-bottom-color: var(--fill-color);\n",
              "      border-left-color: var(--fill-color);\n",
              "    }\n",
              "    20% {\n",
              "      border-color: transparent;\n",
              "      border-left-color: var(--fill-color);\n",
              "      border-top-color: var(--fill-color);\n",
              "    }\n",
              "    30% {\n",
              "      border-color: transparent;\n",
              "      border-left-color: var(--fill-color);\n",
              "      border-top-color: var(--fill-color);\n",
              "      border-right-color: var(--fill-color);\n",
              "    }\n",
              "    40% {\n",
              "      border-color: transparent;\n",
              "      border-right-color: var(--fill-color);\n",
              "      border-top-color: var(--fill-color);\n",
              "    }\n",
              "    60% {\n",
              "      border-color: transparent;\n",
              "      border-right-color: var(--fill-color);\n",
              "    }\n",
              "    80% {\n",
              "      border-color: transparent;\n",
              "      border-right-color: var(--fill-color);\n",
              "      border-bottom-color: var(--fill-color);\n",
              "    }\n",
              "    90% {\n",
              "      border-color: transparent;\n",
              "      border-bottom-color: var(--fill-color);\n",
              "    }\n",
              "  }\n",
              "</style>\n",
              "\n",
              "      <script>\n",
              "        async function quickchart(key) {\n",
              "          const quickchartButtonEl =\n",
              "            document.querySelector('#' + key + ' button');\n",
              "          quickchartButtonEl.disabled = true;  // To prevent multiple clicks.\n",
              "          quickchartButtonEl.classList.add('colab-df-spinner');\n",
              "          try {\n",
              "            const charts = await google.colab.kernel.invokeFunction(\n",
              "                'suggestCharts', [key], {});\n",
              "          } catch (error) {\n",
              "            console.error('Error during call to suggestCharts:', error);\n",
              "          }\n",
              "          quickchartButtonEl.classList.remove('colab-df-spinner');\n",
              "          quickchartButtonEl.classList.add('colab-df-quickchart-complete');\n",
              "        }\n",
              "        (() => {\n",
              "          let quickchartButtonEl =\n",
              "            document.querySelector('#df-8fb8ae66-5546-4723-96cd-b9dc0ad5bf72 button');\n",
              "          quickchartButtonEl.style.display =\n",
              "            google.colab.kernel.accessAllowed ? 'block' : 'none';\n",
              "        })();\n",
              "      </script>\n",
              "    </div>\n",
              "    </div>\n",
              "  </div>\n"
            ],
            "application/vnd.google.colaboratory.intrinsic+json": {
              "type": "dataframe",
              "variable_name": "before_exp_dataset"
            }
          },
          "metadata": {},
          "execution_count": 16
        }
      ]
    },
    {
      "cell_type": "markdown",
      "source": [
        "Здесь в датасете есть все 100% пользователей и дополнительные метрики, помимо выручки. А также группировка данных по неделям.\n",
        "- `user_id` — id пользователя\n",
        "- `week_dt` — неделя в году, за которую собирались данные\n",
        "- `promotion_revenue` — выручка от услуг продвижения\n",
        "\n",
        "*Дополнительно*\n",
        "- `promotion_listings` — количество объявлений, к которым была применена услуга продвижения\n",
        "- `promotion_listers` — количество пользователей, купивших услугу продвижения\n",
        "\n",
        "**Важно:**\n",
        "- В данном случае у нас нет колонки `group`, так как мы пока не поделили пользователей на тест и контроль\n",
        "- 1 пользователь встречается в датасете больше, чем 1 раз! Это связано с тем, что юзер может совершать разные покупки в разные недели\n",
        "\n",
        "Поэтому давайте создадим функцию-помощник, которая будет группировать данные пользователя за разные недели в 1 строчку, чтобы избавиться от зависимостей в данных. При этом количество объединяемых недель будет параметром функции."
      ],
      "metadata": {
        "id": "AS1hAJQNJd-h"
      }
    },
    {
      "cell_type": "code",
      "source": [
        "def make_grouped_user_dataset(before_df, weeks_in_test):\n",
        "    # максимальная доступная неделя при сетапе теста\n",
        "    max_week = before_exp_dataset['week_dt'].max()\n",
        "\n",
        "    # Оставляем только те недели, которые больше max_week - weeks_in_test.\n",
        "    # Таким образом мы отберем ровно weeks_in_test недель.\n",
        "    curr_df = before_df[(before_df['week_dt'] > max_week - weeks_in_test)][\n",
        "        ['user_id', 'promotion_revenue', 'promotion_listings', 'promotion_listers']\n",
        "    ]\n",
        "    # promotion_listers группируется как `max`, исходя из логики метрики: хотя бы раз за время АА-теста воспользовался услугой продвижения\n",
        "    curr_df = pd.DataFrame(curr_df.groupby(['user_id']).agg(\n",
        "        {'promotion_revenue': 'sum',\n",
        "         'promotion_listings': 'sum',\n",
        "         'promotion_listers': 'max'\n",
        "        }\n",
        "    ).reset_index()).fillna(0)\n",
        "\n",
        "    return curr_df"
      ],
      "metadata": {
        "id": "4qYBhguhJcHU"
      },
      "execution_count": null,
      "outputs": []
    },
    {
      "cell_type": "code",
      "source": [
        "np.random.seed(42)\n",
        "prepaired_for_aa_dataset = make_grouped_user_dataset(before_exp_dataset, weeks_in_test=1)\n",
        "# Суммарно 20 процентов: 10 в тесте и 10 в контроле\n",
        "prepaired_for_aa_dataset = prepaired_for_aa_dataset.sample(frac=0.2)"
      ],
      "metadata": {
        "id": "7_Pcm7QFJf4A"
      },
      "execution_count": null,
      "outputs": []
    },
    {
      "cell_type": "markdown",
      "source": [
        "#### 2. Создание АА-теста\n",
        "\n",
        "Теперь нам необходимо случайным образом разделить пользователей на две группы: тестовую и контрольную."
      ],
      "metadata": {
        "id": "jZ0mRjvhJjSd"
      }
    },
    {
      "cell_type": "code",
      "source": [
        "np.random.seed(42)\n",
        "prepaired_for_aa_dataset['group'] = np.random.choice(['test', 'control'], size=len(prepaired_for_aa_dataset))\n",
        "\n",
        "metric = 'promotion_revenue'\n",
        "aa_test = np.array(prepaired_for_aa_dataset[(prepaired_for_aa_dataset['group'] == 'test')][metric])\n",
        "aa_control = np.array(prepaired_for_aa_dataset[(prepaired_for_aa_dataset['group'] == 'control')][metric])\n"
      ],
      "metadata": {
        "id": "B7Y-Ewt2JhUb"
      },
      "execution_count": null,
      "outputs": []
    },
    {
      "cell_type": "markdown",
      "source": [
        "#### 3. Считаем MDE на AA-тесте"
      ],
      "metadata": {
        "id": "Xa9Q5FUYJsUN"
      }
    },
    {
      "cell_type": "code",
      "source": [
        "alpha = 0.05\n",
        "beta = 0.2\n",
        "MDE_absolute = (sps.norm().ppf(1 - alpha) + sps.norm().ppf(1 - beta)) * np.sqrt(np.var(aa_test) / len(aa_test) + np.var(aa_control)  / len(aa_control))\n",
        "\n",
        "MDE_rel = MDE_absolute / np.mean(aa_control)\n",
        "print(f\"Абсолютный MDE для метрики выручки на пользователя равен {round(MDE_absolute, 1)} руб.\")\n",
        "print(f\"Относительный MDE для метрики выручки на пользователя равен {round(MDE_rel * 100, 1)}%\")"
      ],
      "metadata": {
        "colab": {
          "base_uri": "https://localhost:8080/"
        },
        "id": "yb9S5h0CJk9K",
        "outputId": "ef7374ac-9fdb-4aae-9b4e-a49aa1bd10ef"
      },
      "execution_count": null,
      "outputs": [
        {
          "output_type": "stream",
          "name": "stdout",
          "text": [
            "Абсолютный MDE для метрики ARPU равен 42.6 руб.\n",
            "Относительный MDE для метрики ARPU равен 18.5%\n"
          ]
        }
      ]
    },
    {
      "cell_type": "markdown",
      "source": [
        "Мы видим, что абсолютный MDE и относительный MDE оказались схожи с экспериментальными. Это свидетельствует о том, что наша текущая методика прогнозирования MDE до начала теста работает!\n",
        "\n",
        "Однако, стоит отметить, что в реальной жизни абсолютный MDE, полученный в ходе АА-теста, зачастую отличается от фактического из-за влияния сезонных факторов. Однако относительный MDE, как показывает практика, остается неизменным.\n",
        "\n",
        "**Подводя итог:** мы успешно научились предсказывать MDE теста еще до его начала. Это представляет собой один из ключевых элементов в процессе подготовки AB-теста. Как мы убедились, если бы мы провели эту процедуру заранее в нашем исходном кейсе, то смогли бы избежать плачевных результатов эксперимента."
      ],
      "metadata": {
        "id": "o-fyP_TfJw2K"
      }
    },
    {
      "cell_type": "markdown",
      "source": [
        "-----\n",
        "\n",
        "**Вывод всего раздела:** некачественный сетап эксперимента — это гарантия того, что AB-тесты будут серыми и бессмысленными."
      ],
      "metadata": {
        "id": "tqDc_8cNJz6G"
      }
    },
    {
      "cell_type": "markdown",
      "source": [
        "## Часть 2. Хорошо подготовленный АБ-тест на реальных данных.\n",
        "\n",
        "### 2.1 Грамотная подготовка теста\n",
        "\n",
        "Мы научились прогнозировать MDE теста заранее. Но сейчас нам это не помогает: мы лишь поняли, что текущие праметры эксперимента не позволят замерить эффект.\n",
        "\n",
        "Чтобы избежать подобной ситуации, перед началом теста важно тщательно продумать его параметры. Основываясь на двух приведенных выше примерах, можно выделить несколько ключевых компонентов:\n",
        "\n",
        "- **Сплитование.** Процент пользователей, выделяемый для каждой группы.\n",
        "- **Длительность теста.**\n",
        "- **Метрика и статистическая гипотеза.**\n",
        "\n",
        "Давайте подробнее рассмотрим, как каждый из этих параметров влияет на MDE."
      ],
      "metadata": {
        "id": "XqI0IGqrJ2Ii"
      }
    },
    {
      "cell_type": "markdown",
      "source": [
        "-----\n",
        "\n",
        "В дальнейшем мы все время будем делать улучшения в сетапе теста, и надо понимать, насколько стало лучше. Оценивать мы будем по MDE, поэтому сразу же выпишем функцию, которая будет его считать."
      ],
      "metadata": {
        "id": "EjNZg49VJ7X8"
      }
    },
    {
      "cell_type": "code",
      "source": [
        "def get_relative_MDE(test, control, alpha, beta):\n",
        "    MDE_absolute = (sps.norm().ppf(1 - alpha) + sps.norm().ppf(1 - beta)) * \\\n",
        "        np.sqrt(np.var(test) / len(test) + np.var(control)  / len(control))\n",
        "    MDE_rel = MDE_absolute / np.mean(control)\n",
        "    return MDE_rel"
      ],
      "metadata": {
        "id": "R2_S9cnQJuWH"
      },
      "execution_count": null,
      "outputs": []
    },
    {
      "cell_type": "markdown",
      "source": [
        "#### 2.1.1 Сплитование пользователей\n",
        "\n",
        "\n",
        "\n",
        "Давайте посмотрим, как меняется MDE при увеличении размера тестовых групп. Это самый первый и понятный способ увеличения чувстивтельности теста. Пусть $N$ — число людей в сервисе за неделю. Пусть в тесте у нас доля пользователей будет $a$, а в контроле – $b$.\n",
        "\n",
        "Математически мы знаем, что если дисперсия теста от контроля ничем не отличается (а на практике часто так и бывает), то $S^2_T = S^2_С = S^2$, и\n",
        "\n",
        "$$\n",
        "\\begin{align}\n",
        "\\text{MDE}(a, b) &= \\left(z_{1-\\alpha} + z_{1-\\beta}\\right) \\cdot \\sqrt{\\dfrac{S^2_T}{a \\cdot N} + \\dfrac{S^2_C}{b \\cdot N}} =\\\\\n",
        "    &= \\left(z_{1-\\alpha} + z_{1-\\beta}\\right)  \\cdot \\sqrt{\\dfrac{S^2}{N}}  \\cdot \\sqrt{ \\dfrac{1}{a} + \\dfrac{1}{b}} = \\\\\n",
        "    &= \\text{const}  \\cdot \\sqrt{ \\dfrac{1}{a} + \\dfrac{1}{b}}\n",
        "\\end{align}\n",
        "$$\n",
        "\n",
        "Теперь мы поняли, как MDE зависит от параметров $a$, $b$. Несложно показать, что наименьший MDE будет, когда $a = b = 0.5$. Давайте посмотрим в нашем примере, как сократится MDE из-за этого.\n",
        "\n"
      ],
      "metadata": {
        "id": "0qvRa1P7KJGY"
      }
    },
    {
      "cell_type": "code",
      "source": [
        "def compare_mde(current_a, current_b, new_a, new_b):\n",
        "    return np.sqrt(1/current_a + 1/current_b) / np.sqrt(1/new_a + 1/new_b)\n",
        "\n",
        "compare_mde(0.1, 0.1, 0.5, 0.5)"
      ],
      "metadata": {
        "colab": {
          "base_uri": "https://localhost:8080/"
        },
        "id": "FGV8o1OhKG96",
        "outputId": "2e0d8c5b-4141-4aa7-e309-f6aa1f532efa"
      },
      "execution_count": null,
      "outputs": [
        {
          "output_type": "execute_result",
          "data": {
            "text/plain": [
              "np.float64(2.23606797749979)"
            ]
          },
          "metadata": {},
          "execution_count": 22
        }
      ]
    },
    {
      "cell_type": "markdown",
      "source": [
        "То есть если мы будем использовать разбиение 50:50 вместо 10:10, то доверительный интервал сократится в 2,2 раза! Но это значение мы получили теоретически, а не на практике. Давай же его проверим на нашем реальном тесте с реальными данными: совпадает ли теория с практикой?"
      ],
      "metadata": {
        "id": "nIuRQKg6KOPv"
      }
    },
    {
      "cell_type": "code",
      "source": [
        "def check_mde_reduce_from_size(grouped_dataset, current_t, current_c, new_t, new_c):\n",
        "    \"\"\"\n",
        "    Функция для сравнения MDE в текущем варианте сплитования и в новом.\n",
        "    Параметры:\n",
        "        - grouped_dataset: сгруппированный поюзерный датасет, на осоновании которого будут сравниваться MDE\n",
        "        - current_t: доля пользователей в тесте в текущем сетапе\n",
        "        - current_c: доля пользователей в контроле в текущем сетапе\n",
        "        - new_t: доля пользователей в тесте в новом сетапе\n",
        "        - new_c: доля пользователей в контроле в новом сетапе\n",
        "    Возвращает:\n",
        "        - отношение MDE_current / MDE_new\n",
        "    \"\"\"\n",
        "\n",
        "\n",
        "    grouped_dataset['group_current'] = np.random.choice(['test', 'control', '-'],\n",
        "                                                        p=[current_t, current_c, 1 - current_c - current_t],\n",
        "                                                        size=len(grouped_dataset))\n",
        "    grouped_dataset['group_new'] = np.random.choice(['test', 'control', '-'],\n",
        "                                                    p=[new_t, new_c, 1 - new_t - new_c],\n",
        "                                                    size=len(grouped_dataset))\n",
        "    metric = 'promotion_revenue'\n",
        "\n",
        "\n",
        "    test_curr = np.array(grouped_dataset[(grouped_dataset['group_current'] == 'test')][metric])\n",
        "    control_curr = np.array(grouped_dataset[(grouped_dataset['group_current'] == 'control')][metric])\n",
        "\n",
        "    test_new = np.array(grouped_dataset[(grouped_dataset['group_new'] == 'test')][metric])\n",
        "    control_new = np.array(grouped_dataset[(grouped_dataset['group_new'] == 'control')][metric])\n",
        "\n",
        "    MDE_current = get_relative_MDE(test_curr, control_curr, alpha=0.05, beta=0.2)\n",
        "    MDE_new = get_relative_MDE(test_new, control_new, alpha=0.05, beta=0.2)\n",
        "    return MDE_current / MDE_new"
      ],
      "metadata": {
        "id": "BcsPTE8qKMe5"
      },
      "execution_count": null,
      "outputs": []
    },
    {
      "cell_type": "code",
      "source": [
        "np.random.seed(42)\n",
        "grouped_dataset =  make_grouped_user_dataset(before_exp_dataset, 1)\n",
        "check_mde_reduce_from_size(grouped_dataset, current_t=0.1, current_c=0.1, new_t=0.5, new_c=0.5)"
      ],
      "metadata": {
        "colab": {
          "base_uri": "https://localhost:8080/"
        },
        "id": "xX4otZkOKQA5",
        "outputId": "9d6962de-d15d-40c3-a797-a84764c19aed"
      },
      "execution_count": null,
      "outputs": [
        {
          "output_type": "execute_result",
          "data": {
            "text/plain": [
              "np.float64(1.994272235436634)"
            ]
          },
          "metadata": {},
          "execution_count": 24
        }
      ]
    },
    {
      "cell_type": "markdown",
      "source": [
        "Как мы видим, значения оказались близкими, но не совпали. Это логично: мы поделили здесь датасет одним способом, а могли и другим. А что, если мы посмотрим среднее изменение при разных сплитованиях? Например, проведем Монте-Карло, где каждый раз по-разному будем семплировать датасет. И посмотрим, какое в среднем будет отношение MDE изначального сетапа к MDE предлагаемого сетапа?"
      ],
      "metadata": {
        "id": "sAAHotEQKTgo"
      }
    },
    {
      "cell_type": "code",
      "source": [
        "np.random.seed(42)\n",
        "\n",
        "mde_cmp = []\n",
        "MC_size = 1000\n",
        "\n",
        "grouped_dataset = make_grouped_user_dataset(before_exp_dataset, 1)\n",
        "\n",
        "for _ in tqdm_notebook(range(MC_size)):\n",
        "    curr_mde_cmp = check_mde_reduce_from_size(grouped_dataset, current_t=0.1, current_c=0.1, new_t=0.5, new_c=0.5)\n",
        "    mde_cmp.append(curr_mde_cmp)\n",
        "\n",
        "plt.figure(figsize=(15, 7))\n",
        "plt.title('Распределение отношений MDE при разном случайном сплитовании', fontsize=15)\n",
        "sns.distplot(mde_cmp, label='test')\n",
        "plt.legend(fontsize=15)\n",
        "plt.xlabel(\"Отношение MDE\", fontsize=15)\n",
        "plt.show()\n",
        "\n",
        "print(f'MDE_start_split / MDE_best_split: {round(np.mean(mde_cmp), 3)}')"
      ],
      "metadata": {
        "colab": {
          "base_uri": "https://localhost:8080/",
          "height": 712,
          "referenced_widgets": [
            "0b88f4c0388943489aab564a4a8304f9",
            "80859c739fc949859655f4b70e4deadc",
            "31609f33961a46de881f061e4ff4b15a",
            "280ca053f22344dbb6cd5174ab7a4ece",
            "e0fbb93b4ef64330b583675b9ea1207d",
            "6c00817f2a184f469767d0d0c839e727",
            "32962ced704f4ce4a2a53778802f080e",
            "feb9a07f21834081977435a5926fd915",
            "48cf412d4cd244bb82fa1a738e2e566a",
            "c1988bfd946243b4940a5126e5ecd547",
            "ea80024038014b29b341e43c8900af78"
          ]
        },
        "id": "zUNIWXo_KRkF",
        "outputId": "050f7e36-15c0-4bcd-da10-a09d5bc639f2"
      },
      "execution_count": null,
      "outputs": [
        {
          "output_type": "display_data",
          "data": {
            "text/plain": [
              "  0%|          | 0/1000 [00:00<?, ?it/s]"
            ],
            "application/vnd.jupyter.widget-view+json": {
              "version_major": 2,
              "version_minor": 0,
              "model_id": "0b88f4c0388943489aab564a4a8304f9"
            }
          },
          "metadata": {}
        },
        {
          "output_type": "display_data",
          "data": {
            "text/plain": [
              "<Figure size 1500x700 with 1 Axes>"
            ],
            "image/png": "[encoded data removed]"
          },
          "metadata": {}
        },
        {
          "output_type": "stream",
          "name": "stdout",
          "text": [
            "MDE_start_split / MDE_best_split: 2.226\n"
          ]
        }
      ]
    },
    {
      "cell_type": "markdown",
      "source": [
        "Да, при разных случайных разбиениях отношение MDE может меняться, но в среднем оно составляет около 2,23, как и предполагалось! Это означает, что если мы разделим пользователей не 10:10%, как изначально планировали, а 50:50, то ожидаемое сокращение MDE будет более чем в два раза!\n",
        "\n",
        "Поэтому, в нашем кейсе мы разобьем трафик 50:50.\n",
        "\n",
        "**Почему тогда каждый раз не проводить тест 50 на 50?**\n",
        "\n",
        "Можно выделить несколько причин:\n",
        "\n",
        "1. У вас может быть несколько параллельных экспериментов, которые могут искажать результаты друг друга.\n",
        "2. Ваше изменение может быть очень рискованным для сервиса и повлечь за собой снижение ключевых показателей компании. Поэтому вы стараетесь сделать тестовую группу как можно меньше.\n",
        "3. *Ваш тест может оказывать \"сетевой эффект\" на контрольную группу. Чтобы минимизировать его влияние, вы ограничиваете размер тестовой группы. Более подробно о сетевых эффектах мы поговорим в дальнейших методичках по курсу."
      ],
      "metadata": {
        "id": "hTjzUljmKZcQ"
      }
    },
    {
      "cell_type": "markdown",
      "source": [
        "#### 2.1.2 Выбор длительности теста\n",
        "\n",
        "\n",
        "**Как не надо считать длительность теста?**\n",
        "\n",
        "Чаще всего, если вы будете смотреть в интернете, как считать длительность теста, то наткнетесь на формулу в случае разделения пользователей 50 на 50:\n",
        "\n",
        "$$N = 2 \\left(\\dfrac{z_{1 - \\alpha} + z_{1 - \\beta}}{\\text{MDE}}\\right)^2 S^2,$$\n",
        "\n",
        "где $N$ – размер одной группы, а MDE – ваш желаемый эффект, который вы хотите детектировать.\n",
        "\n",
        "Она напрямую следует из формулы:\n",
        "$\\text{MDE} = \\left(z_{1-\\alpha} + z_{1-\\beta}\\right) \\cdot \\sqrt{\\dfrac{S^2_T}{N} + \\dfrac{S^2_C}{N}} \\approx \\left(z_{1-\\alpha} + z_{1-\\beta}\\right) \\cdot \\sqrt{2} \\cdot \\sqrt{\\dfrac{S^2}{N}} $\n",
        "\n",
        "\n",
        "В чем проблема такого решения? Их на самом деле две:\n",
        "1) Вы не знаете, как с ростом длительности теста будет увеличиваться размер выборки. Функция зависимости N от длительности теста неизвестна!\n",
        "2) Также у нас есть проблема дисперсии: **она зависит от длительности теста!** На самом деле у нас формула: $N = 2 \\left(\\dfrac{z_{1 - \\alpha} + z_{1 - \\beta}}{\\text{MDE}}\\right)^2 \\cdot S^2(T),$ где $S^2(T)$ – Функция оценки дисперсии относительно длительности теста.  Чем она больше, тем больше дисперсия. Это возникает из-за того, что новые пользователи приходят, а старые активные пользователи начинают тратить все больше и больше в сервисе!\n",
        "\n",
        "Давайте посмотрим на нашем кейсе, как изменяется оценка дисперсии с ростом длительности теста:"
      ],
      "metadata": {
        "id": "f4yqYZrQKds2"
      }
    },
    {
      "cell_type": "code",
      "source": [
        "weeks_length_array = np.arange(1, 9, 1)\n",
        "\n",
        "metric = 'promotion_revenue'\n",
        "\n",
        "S2_array = []\n",
        "for weeks_length in weeks_length_array:\n",
        "    curr_df = make_grouped_user_dataset(before_exp_dataset, weeks_length)\n",
        "    S2 = np.var(curr_df[metric])\n",
        "    S2_array.append(S2)\n",
        "\n",
        "plt.figure(figsize=(15, 7))\n",
        "plt.title('Зависимость $S^2$ от длительности эксперимента', fontsize=15)\n",
        "\n",
        "plt.plot(weeks_length_array, S2_array, label='$S^2$')\n",
        "plt.legend()\n",
        "plt.ylabel('$S^2$ ', fontsize=15)\n",
        "plt.xlabel('Номер недели теста', fontsize=15)\n",
        "plt.ylim(0, max(S2_array) + 1)\n",
        "plt.show()"
      ],
      "metadata": {
        "colab": {
          "base_uri": "https://localhost:8080/",
          "height": 668
        },
        "id": "zanO4VuvKXOV",
        "outputId": "18ba77a4-a410-49d1-b156-9efe24f04a29"
      },
      "execution_count": null,
      "outputs": [
        {
          "output_type": "display_data",
          "data": {
            "text/plain": [
              "<Figure size 1500x700 with 1 Axes>"
            ],
            "image/png": "[encoded data removed]"
          },
          "metadata": {}
        }
      ]
    },
    {
      "cell_type": "markdown",
      "source": [
        "График наглядно подтвержадет, что дисперсия не является константой с ростом длительности теста. Поэтому описанная ранее формула на практике не работает!"
      ],
      "metadata": {
        "id": "SXHBO8BuKkQe"
      }
    },
    {
      "cell_type": "markdown",
      "source": [
        "**Как правильно определять длительность теста?**\n",
        "\n",
        "Предлагается не строить сложных моделей, а просто посчитать MDE на исторических данных с учетом разного числа недель в АА-тесте."
      ],
      "metadata": {
        "id": "7qK7fwZTKoEW"
      }
    },
    {
      "cell_type": "code",
      "source": [
        "MDE_week_array = []\n",
        "metric = 'promotion_revenue'\n",
        "\n",
        "weeks_length_array = np.arange(1, 10, 1)\n",
        "for weeks_length in weeks_length_array:\n",
        "    curr_df = make_grouped_user_dataset(before_exp_dataset, weeks_length)\n",
        "    curr_df['group'] = np.random.choice(['test', 'control'], size=len(curr_df))\n",
        "\n",
        "    test = np.array(curr_df[(curr_df['group'] == 'test')][metric])\n",
        "    control = np.array(curr_df[(curr_df['group'] == 'control')][metric])\n",
        "    MDE = get_relative_MDE(test, control, alpha=0.05, beta=0.2) * 100\n",
        "    MDE_week_array.append(MDE)\n",
        "\n",
        "\n",
        "plt.figure(figsize=(15, 7))\n",
        "plt.title('Зависимость MDE от длительности эксперимента', fontsize=15)\n",
        "\n",
        "plt.plot(weeks_length_array, MDE_week_array, label=metric)\n",
        "plt.legend()\n",
        "plt.ylabel('MDE, %', fontsize=15)\n",
        "plt.xlabel('Номер недели теста', fontsize=15)\n",
        "plt.ylim(0, max(MDE_week_array) + 1)\n",
        "plt.show()"
      ],
      "metadata": {
        "colab": {
          "base_uri": "https://localhost:8080/",
          "height": 662
        },
        "id": "Nq75GuV9KiDe",
        "outputId": "05ee319b-ffb5-4d3a-d110-5fbfdc657665"
      },
      "execution_count": null,
      "outputs": [
        {
          "output_type": "display_data",
          "data": {
            "text/plain": [
              "<Figure size 1500x700 with 1 Axes>"
            ],
            "image/png": "[encoded data removed]"
          },
          "metadata": {}
        }
      ]
    },
    {
      "cell_type": "markdown",
      "source": [
        "Мы видим, что зависимость нелинейная и не падает к нулую: она остановилась около 5% на 7 неделях. Этого достаточно, больше держать тест смысла нет."
      ],
      "metadata": {
        "id": "8v2uKn32KsOx"
      }
    },
    {
      "cell_type": "code",
      "source": [
        "MDE_week_array[0] / MDE_week_array[6]"
      ],
      "metadata": {
        "colab": {
          "base_uri": "https://localhost:8080/"
        },
        "id": "nOG7e0s9KqNo",
        "outputId": "51ff4481-b799-4b57-8b06-5c65582e6804"
      },
      "execution_count": null,
      "outputs": [
        {
          "output_type": "execute_result",
          "data": {
            "text/plain": [
              "np.float64(1.395100886729453)"
            ]
          },
          "metadata": {},
          "execution_count": 28
        }
      ]
    },
    {
      "cell_type": "markdown",
      "source": [
        "Из-за того, что мы будем держать тест не 1 неделю, а 7, то мы выиграем в 1.4 раза!\n",
        "\n",
        "**Какие ещё факторы влияют на продолжительность теста?**\n",
        "\n",
        "Помимо MDE, важно учитывать, что ваши бизнес-партнёры также стремятся получить результаты AB-теста в максимально сжатые сроки. Поэтому вам необходимо достичь разумного компромисса с ними. Ваша аргументация может звучать следующим образом: если мы проведем тест в течение X недель вместо предлагаемых Y недель, то сможем получить более точные результаты. Вместо того чтобы определять эффект в $\\alpha\\%$, мы сможем детектировать более мелкий эффект $\\beta\\%$, что может быть очень важно.\n",
        "\n",
        "В идеале, было бы полезно продемонстрировать в деньгах, что $\\beta\\%$ также представляет значительный потенциал для бизнеса, и крайне важно иметь возможность выявлять такие эффекты.\n",
        "\n",
        "Наш текущий MDE:"
      ],
      "metadata": {
        "id": "UQeGU2JpKvus"
      }
    },
    {
      "cell_type": "code",
      "source": [
        "print(f\"Относительный MDE для метрики ARPU при правильном сетапе равен {round(MDE_week_array[6], 1)}%\")"
      ],
      "metadata": {
        "colab": {
          "base_uri": "https://localhost:8080/"
        },
        "id": "sAiWrZH9Ktty",
        "outputId": "f6769053-7b69-4022-b275-d35f0d0e1ce9"
      },
      "execution_count": null,
      "outputs": [
        {
          "output_type": "stream",
          "name": "stdout",
          "text": [
            "Относительный MDE для метрики ARPU при правильном сетапе равен 5.1%\n"
          ]
        }
      ]
    },
    {
      "cell_type": "markdown",
      "source": [
        "Мы сократили наш MDE в 3 раза! Но 5% это все еще много."
      ],
      "metadata": {
        "id": "IEpAaWd5K3mU"
      }
    },
    {
      "cell_type": "markdown",
      "source": [
        "#### 2.1.3 Метрики и прокси метрики\n",
        "\n",
        "Еще один эффективный метод детектировать более мелкие эффекты – это работа с метрикой, а точнее работа с прокси-метриками.\n",
        "\n",
        "Какая прокси-метрика хорошая? Она должна удовлетворять 2 правилам:\n",
        "- Быть сонаправленной с вашей целевой метрикой. Это правило нужно для правильной бизнес-интерпретации: если мы вырастили эту метрику – значит, мы вырастили и нашу основную метрику.\n",
        "- Иметь большую чувствительность, нежели ваша основная метрика. Это правило уже продиктовано статистикой.\n",
        "\n",
        "**Внимание! Вы должны быть абсолютно уверены, что прокси метрика сонаправлена с вашей основной метрикой.** Если это будет не так, то смысла в прокси метрике нет. Так как гарантировать это в каждом отдельном случае очень сложно, то переход к прокси метрикам рекомендуется только в том случае, если все остальные методы грамотного сетапа теста с основной метрикой не помогли.\n",
        "\n",
        "---\n",
        "\n",
        "В нашем тесте прокрасить выручку – очень сложная задача. Как мы видим, у этой метрики MDE 5%. Поэтому надо придумать прокси метрику. Как стоит подходить к этой задаче?\n",
        "\n",
        "**Основной метод нахождения прокси метрик – разложить вашу основную метрику на компоненты.** Или же, если использовать формальные термины, то это взять метрику выше по продуктовой воронке или по дереву метрик.\n",
        "\n",
        "Если рассматривать наш пример, то\n",
        "```\n",
        "promotion_revenue =\n",
        "    = promotion_listings * promotion_revenue_per_listing\n",
        "    = promotion_listers * promotion_listings_per_promotion_lister * promotion_revenue_per_listing\n",
        "```\n",
        "Поэтому в нашем тесте предлагается использовать следующие \"более чувствительные метрики\".\n",
        "- `promotion_listings` – число объявлений с покупкой продвижения.\n",
        "- `promotion_listers` – число пользователей, купивших услугу продвижения.\n",
        "\n",
        "Давайте посмотрим на истории, какая метрика более чувствительная и более скоррелирована с нашей финальной метрикой выручки.\n",
        "\n",
        "Все остальные параметры возьмем максимально из нашего идеального сетапа для выручки: соберем данные за 7 недель и посмотрим на сетап 50% на 50%."
      ],
      "metadata": {
        "id": "BFzqtmPJK510"
      }
    },
    {
      "cell_type": "code",
      "source": [
        "current_dataset =  make_grouped_user_dataset(before_exp_dataset, 7)\n",
        "current_dataset['group'] = np.random.choice(['test', 'control'], size=len(current_dataset))\n",
        "\n",
        "for metric in ['promotion_revenue', 'promotion_listings', 'promotion_listers']:\n",
        "    test = np.array(current_dataset[(current_dataset['group'] == 'test')][metric])\n",
        "    control = np.array(current_dataset[(current_dataset['group'] == 'control')][metric])\n",
        "\n",
        "    MDE = get_relative_MDE(test, control, alpha=0.05, beta=0.2)\n",
        "    print(f'{metric} MDE: {round(MDE * 100, 1)}%')"
      ],
      "metadata": {
        "colab": {
          "base_uri": "https://localhost:8080/"
        },
        "id": "YEgs_j-iKyjW",
        "outputId": "44492048-6875-4709-b1ab-27c7086c8e44"
      },
      "execution_count": null,
      "outputs": [
        {
          "output_type": "stream",
          "name": "stdout",
          "text": [
            "promotion_revenue MDE: 5.2%\n",
            "promotion_listings MDE: 4.1%\n",
            "promotion_listers MDE: 1.7%\n"
          ]
        }
      ]
    },
    {
      "cell_type": "markdown",
      "source": [
        "MDE для метрики `promotion_listers` является самым низким: он почти в три раза меньше, чем у `promotion_revenue`.\n",
        "\n",
        "**Важно дополнение!** Нам нужно не только уменьшить MDE, но вы также должны иметь понимание, что на эту метрику вы будете сильно влиять! Например, если вы изменяете только метрику \"средний чек на объявление\" в вашем гипотетическом кейсе, и не меняете число юзеров, то нет  смысла брать метрику `promotion_listers`, даже если у нее малый MDE.\n",
        "\n",
        "\n",
        "В нашем кейсе давайте смотреть `promotion_listers`: если нам удастся увеличить количество пользователей, которые воспользуются услугой продвижения, то мы будем считать тест успешным. Это вполне логично: если больше людей хотя бы раз воспользуются услугой, это принесёт больше денег сервису. Однако такой подход работает только при условии, что выручка у существующих пользователей услуги продвижения не уменьшится. В нашем случае это кажется правдоподобным, но мы можем дополнительно проверить это в AB-тесте. Достаточно оценить, не снизилась ли ratio-метрика `promotion_revenue / promotion_listers` и не уменьшилось ли количество `promotion_listings`. Однако стоит учесть, что эти метрики точно будут более шумными, поэтому их проверка в AB-тесте скорее носит характер дополнительной проверки.\n",
        "\n",
        "Тогда наша финальная статистическая гипотеза:\n",
        "\n",
        "$$\n",
        "H_0: P_C = P_T\\ vs. H_1:  P_C < P_T\n",
        "$$\n",
        "\n",
        "где $P$ &mdash; конверсия в покупку услуги продвижения за N недель.\n",
        "\n",
        "Далее рассмотрим 3 важных замечания при использовании прокси метрик.\n",
        "\n",
        "-----\n"
      ],
      "metadata": {
        "id": "zZeix1uRLEM5"
      }
    },
    {
      "cell_type": "markdown",
      "source": [
        "##### 1. **Прокси-метрика – не универсальна! В каждом кейсе ее надо подбирать заново.**\n",
        "\n",
        "Важно помнить, что прокси метрики не являются универсальными и могут различаться в зависимости от конкретного случая. Например, в ситуации, когда требуется изменить дизайн и описание услуги, `promotion_listers` будет подходящей прокси метрикой.\n",
        "\n",
        "Но теперь посмотрим такой кейс:\n",
        "\n",
        "> Вы хотите протестировать выдачу скидок на услугу продвижения новым пользователям. Увеличит ли это выручку?\n",
        "\n",
        "В данном кейсе основная метрика &mdash; выручка, как и в нашем. Но! Если использовать метрику `promotion_listers` в качестве прокси метрики, по которой вы будете принимать решение, то вы точно раскатите это изменение, даже если оно ведет к падению выручки! Почему? Потому что в этом случае вы уменьшаете средний чек у всех пользователей, в том числе и у тех, кто воспользовался бы услугой и без скидки, что может привести к падению итоговой выручки (метрика `promotion_revenue / promotion_listers` упадет). **Поэтому в  кейсе со скидками `promotion_listers` &mdash; плохая прокси метрика!**\n",
        "\n",
        "\n",
        "Как теперь понимать, в каком случае можно использовать ту или иную прокси метрику? Чаще всего это определяется логически, исходя из тестируемой механики. Надо понимать, можете ли вы уронить \"соседствующую\" метрику при разложении изначальной метрики, или нет? Но после \"логики\" обязательно должна следовать валидация: например, это можно подтвердить старыми АБ-тестами, если были похожие тесты.\n",
        "\n",
        "\n",
        "##### **2. Какой эффект ожидать на основную метрику при переходе к прокси.**\n",
        "\n",
        "Допустим, мы получим прирост `promotion_listers` на +X%. А в выручке это сколько?\n",
        "- **1 вариант** `+X% proxy metric = +X% main metric`. Это предположение логично в случае, если вы не внесли изменения вашим экспериментом в конверсию второй составляющей при разбиении основной метрики на части. В нашем случае это означает, что соотношение `promotion_revenue / promotion_listers` осталось неизменным в нашем предположении.\n",
        "- **2 вариант** Оценить падение воронки на верхних этапах, как эффект `promotion_listers` спадает при переходе к выручке? Чаще всего это делается на основании старых похожих AB-тестов, или на основании математических моделей, которые надо валидировать.\n",
        "\n",
        "В нашем кейсе мы посчитаем, что у нас первый вариант.\n",
        "\n",
        "\n",
        "##### **3. Интерпретация прокси-метрик: переход к сегментам пользователей.**\n",
        "\n",
        "Иногда вместо замены основной метрики вы можете перейти к более узкому сегменту, где вы ожиадете основной эффект. Например, в данном случае вместо перехода к `promotion_listers` можно было бы смотерть эффект на выручку только среди пользователей, которые не пользовались услугой продвижения в течение нескольких последних месяцев. Если там есть положительный эффект &mdash; значит наш дизайн имеет смысл.\n",
        "\n",
        "При переходе к новому, более узкому сегменту действуют все те же правила, что и переходе от метрики к прокси-метрике: вы должны быть уверены, что в нецелевом сегменте вы не ухудшили метрики.\n"
      ],
      "metadata": {
        "id": "6Yk8MUG7LN30"
      }
    },
    {
      "cell_type": "markdown",
      "source": [
        "#### 2.1.5 Когда стоит остановиться при подготовке сетапа теста?\n",
        "\n",
        "Как понять, имеет ли смысл запускать с таким MDE (1.7%) или нет? Это все еще большой эффект или нет?\n",
        "\n",
        "Ответ на этот вопрос зависит от вашего **ожидаемого эффекта в эксперименте**. Если он 0.5%, то такой сетап теста все еще плох. А если 2-3%, то вполне себе хорош.\n",
        "\n",
        "**Как определить ожидаемый эффект в эксперименте до его начала?**\n",
        "\n",
        "Есть 5 способов ответить на этот вопрос, перечислим их от лучшего к худшему.\n",
        "\n",
        "1. Взять недавние похожие проведенные AB-тесты в компании и усреднить эффект у них.\n",
        "    - Например, в нашем кейсе мы могли бы взять пример, когда тестировали новые услуги продвижения, какой там был эффект?\n",
        "    - Или взять эффект в AB-тесте, где тестировали изменение дизайна в другом похожем продукте: например, изменение дизайна при размещении объявления.\n",
        "2. Построить математическую модель, где часть коэффициентов взять из других тестов или экспертно.\n",
        "3. Если первые 2 кейса не работают, то можно обратиться к бенчмаркам на рынке, или к внешним данным: вдруг кто-то опубликовал ресерч, как они сделали похожее изменение в своем продукте, и это привело к тем или иным результатам.\n",
        "4. Далее, если и внешних данных нет, то оценить эффект экспертно: вероятно, ваш продукт-менеджер может прикинуть эффект исходя из своего опыта.\n",
        "5. Если и это не работает, то ваш ожидаемый эффект = полученный MDE.\n",
        "\n",
        "Ожидаемый эффект вы оцениваете на основании изменения прокси метрики."
      ],
      "metadata": {
        "id": "YAif51d-L9Ny"
      }
    },
    {
      "cell_type": "markdown",
      "source": [
        "#### 2.1.6 Итоги правильной подготовки сетапа теста\n",
        "\n",
        "Теперь, вместо того, чтобы в AB-тесте:\n",
        "- смотреть метрику `promotion_revenue`\n",
        "- тестировать изменения на 10:10 процентах пользователей в каждой группе.\n",
        "- держать тест 1 неделю\n",
        "\n",
        "Мы поняли, что надо:\n",
        "- смотреть метрику `promotion_listers` (сокращение MDE в 3 раза)\n",
        "- тестировать изменения на 50:50 процентах пользователей (сокращение MDE в 2.2 раза)\n",
        "- держать тест 7 недель (сокращение MDE в 1.4 раза)\n",
        "\n",
        "Итоговое сокращение MDE будет в $3*2.2*1.4 = 9.2$ раза! Проверим это на наших предэкспериментальных данных:"
      ],
      "metadata": {
        "id": "AkJVIqW2MXmT"
      }
    },
    {
      "cell_type": "code",
      "source": [
        "# Было\n",
        "np.random.seed(42)\n",
        "metric = 'promotion_revenue'\n",
        "prepaired_for_aa_dataset = make_grouped_user_dataset(before_exp_dataset, weeks_in_test=1)\n",
        "# Суммарно 20 процентов: 10 в тесте и 10 в контроле\n",
        "prepaired_for_aa_dataset = prepaired_for_aa_dataset.sample(frac=0.2)\n",
        "prepaired_for_aa_dataset['group'] = np.random.choice(['test', 'control'], size=len(prepaired_for_aa_dataset))\n",
        "\n",
        "test = np.array(prepaired_for_aa_dataset[(prepaired_for_aa_dataset['group'] == 'test')][metric])\n",
        "control = np.array(prepaired_for_aa_dataset[(prepaired_for_aa_dataset['group'] == 'control')][metric])\n",
        "\n",
        "MDE_old = get_relative_MDE(test, control, alpha=0.05, beta=0.2) * 100"
      ],
      "metadata": {
        "id": "pzZCu7CdLApA"
      },
      "execution_count": null,
      "outputs": []
    },
    {
      "cell_type": "markdown",
      "source": [
        "Тогда наш MDE при неправильном сетапе был:"
      ],
      "metadata": {
        "id": "yjiK9Lsu5K7j"
      }
    },
    {
      "cell_type": "code",
      "source": [
        "print(f\"Изначальный MDE {round(MDE_old, 1)}%\")"
      ],
      "metadata": {
        "colab": {
          "base_uri": "https://localhost:8080/"
        },
        "id": "ThJNMhr9MZii",
        "outputId": "d0dc8357-ac0d-4b04-de9d-c7e07f5a6012"
      },
      "execution_count": null,
      "outputs": [
        {
          "output_type": "stream",
          "name": "stdout",
          "text": [
            "Изначальный MDE 18.7%\n"
          ]
        }
      ]
    },
    {
      "cell_type": "code",
      "source": [
        "# стало\n",
        "np.random.seed(42)\n",
        "metric = 'promotion_listers'\n",
        "prepaired_for_aa_dataset = make_grouped_user_dataset(before_exp_dataset, weeks_in_test=7)\n",
        "prepaired_for_aa_dataset['group'] = np.random.choice(['test', 'control'], size=len(prepaired_for_aa_dataset))\n",
        "\n",
        "test = np.array(prepaired_for_aa_dataset[(prepaired_for_aa_dataset['group'] == 'test')][metric])\n",
        "control = np.array(prepaired_for_aa_dataset[(prepaired_for_aa_dataset['group'] == 'control')][metric])\n",
        "\n",
        "MDE_new = get_relative_MDE(test, control, alpha=0.05, beta=0.2) * 100"
      ],
      "metadata": {
        "id": "8qyr9rhKMbKc"
      },
      "execution_count": null,
      "outputs": []
    },
    {
      "cell_type": "code",
      "source": [
        "print(f\"Новый MDE {round(MDE_new, 1)}%\")"
      ],
      "metadata": {
        "colab": {
          "base_uri": "https://localhost:8080/"
        },
        "id": "tu8aff4ZMcnh",
        "outputId": "542b4f6b-3303-46a2-b8de-a5d8c87b3b94"
      },
      "execution_count": null,
      "outputs": [
        {
          "output_type": "stream",
          "name": "stdout",
          "text": [
            "Новый MDE 1.8%\n"
          ]
        }
      ]
    },
    {
      "cell_type": "code",
      "source": [
        "print(f\"Сокращение MDE: {round(MDE_old/MDE_new, 1)}\")"
      ],
      "metadata": {
        "colab": {
          "base_uri": "https://localhost:8080/"
        },
        "id": "Tt1l2ujRMg3M",
        "outputId": "8cfca9df-093a-4334-c083-f114d003ae47"
      },
      "execution_count": null,
      "outputs": [
        {
          "output_type": "stream",
          "name": "stdout",
          "text": [
            "Сокращение MDE: 10.6\n"
          ]
        }
      ]
    },
    {
      "cell_type": "markdown",
      "source": [
        "Да, все примерно совпало! Благодаря грамотному сетапу AB-теста мы сократили дов. интервал в 10 раз!\n",
        "\n",
        "Сильнее всего на скоращение MDE повлиял переход на прокси-метрику в нашем кейсе."
      ],
      "metadata": {
        "id": "EvjRMxkXMnPC"
      }
    },
    {
      "cell_type": "markdown",
      "source": [
        "### 2.2 Анализ результатов при хорошем сетапе. От серых результатов к прокрасам.\n",
        "\n",
        "Посмотрим теперь, что у нас получилось на практике."
      ],
      "metadata": {
        "id": "NHVp_8V8MsNo"
      }
    },
    {
      "cell_type": "code",
      "source": [
        "exp_df = pd.read_csv('correct_exp_df_ab1.csv')"
      ],
      "metadata": {
        "id": "3K-jrMKmMkQA"
      },
      "execution_count": null,
      "outputs": []
    },
    {
      "cell_type": "code",
      "source": [
        "exp_df.head()"
      ],
      "metadata": {
        "colab": {
          "base_uri": "https://localhost:8080/",
          "height": 206
        },
        "id": "MHd4IGuLM084",
        "outputId": "d6c5ecb3-de36-4caf-e5b6-fe87d4ad47d6"
      },
      "execution_count": null,
      "outputs": [
        {
          "output_type": "execute_result",
          "data": {
            "text/plain": [
              "     user_id    group  promotion_revenue  promotion_listings  \\\n",
              "0  312000117     test           0.000000                   0   \n",
              "1  313250027     test           0.000000                   0   \n",
              "2  320501431  control        5218.765072                   6   \n",
              "3  320750021  control           0.000000                   0   \n",
              "4  321001342     test           0.000000                   0   \n",
              "\n",
              "   promotion_listers  other_revenue  \n",
              "0                  0       0.000000  \n",
              "1                  0       0.000000  \n",
              "2                  1     126.729412  \n",
              "3                  0       0.000000  \n",
              "4                  0       0.000000  "
            ],
            "text/html": [
              "\n",
              "  <div id=\"df-6721af62-47a0-4080-a412-a8fbaf7ef6c9\" class=\"colab-df-container\">\n",
              "    <div>\n",
              "<style scoped>\n",
              "    .dataframe tbody tr th:only-of-type {\n",
              "        vertical-align: middle;\n",
              "    }\n",
              "\n",
              "    .dataframe tbody tr th {\n",
              "        vertical-align: top;\n",
              "    }\n",
              "\n",
              "    .dataframe thead th {\n",
              "        text-align: right;\n",
              "    }\n",
              "</style>\n",
              "<table border=\"1\" class=\"dataframe\">\n",
              "  <thead>\n",
              "    <tr style=\"text-align: right;\">\n",
              "      <th></th>\n",
              "      <th>user_id</th>\n",
              "      <th>group</th>\n",
              "      <th>promotion_revenue</th>\n",
              "      <th>promotion_listings</th>\n",
              "      <th>promotion_listers</th>\n",
              "      <th>other_revenue</th>\n",
              "    </tr>\n",
              "  </thead>\n",
              "  <tbody>\n",
              "    <tr>\n",
              "      <th>0</th>\n",
              "      <td>312000117</td>\n",
              "      <td>test</td>\n",
              "      <td>0.000000</td>\n",
              "      <td>0</td>\n",
              "      <td>0</td>\n",
              "      <td>0.000000</td>\n",
              "    </tr>\n",
              "    <tr>\n",
              "      <th>1</th>\n",
              "      <td>313250027</td>\n",
              "      <td>test</td>\n",
              "      <td>0.000000</td>\n",
              "      <td>0</td>\n",
              "      <td>0</td>\n",
              "      <td>0.000000</td>\n",
              "    </tr>\n",
              "    <tr>\n",
              "      <th>2</th>\n",
              "      <td>320501431</td>\n",
              "      <td>control</td>\n",
              "      <td>5218.765072</td>\n",
              "      <td>6</td>\n",
              "      <td>1</td>\n",
              "      <td>126.729412</td>\n",
              "    </tr>\n",
              "    <tr>\n",
              "      <th>3</th>\n",
              "      <td>320750021</td>\n",
              "      <td>control</td>\n",
              "      <td>0.000000</td>\n",
              "      <td>0</td>\n",
              "      <td>0</td>\n",
              "      <td>0.000000</td>\n",
              "    </tr>\n",
              "    <tr>\n",
              "      <th>4</th>\n",
              "      <td>321001342</td>\n",
              "      <td>test</td>\n",
              "      <td>0.000000</td>\n",
              "      <td>0</td>\n",
              "      <td>0</td>\n",
              "      <td>0.000000</td>\n",
              "    </tr>\n",
              "  </tbody>\n",
              "</table>\n",
              "</div>\n",
              "    <div class=\"colab-df-buttons\">\n",
              "\n",
              "  <div class=\"colab-df-container\">\n",
              "    <button class=\"colab-df-convert\" onclick=\"convertToInteractive('df-6721af62-47a0-4080-a412-a8fbaf7ef6c9')\"\n",
              "            title=\"Convert this dataframe to an interactive table.\"\n",
              "            style=\"display:none;\">\n",
              "\n",
              "  <svg xmlns=\"http://www.w3.org/2000/svg\" height=\"24px\" viewBox=\"0 -960 960 960\">\n",
              "    <path d=\"M120-120v-720h720v720H120Zm60-500h600v-160H180v160Zm220 220h160v-160H400v160Zm0 220h160v-160H400v160ZM180-400h160v-160H180v160Zm440 0h160v-160H620v160ZM180-180h160v-160H180v160Zm440 0h160v-160H620v160Z\"/>\n",
              "  </svg>\n",
              "    </button>\n",
              "\n",
              "  <style>\n",
              "    .colab-df-container {\n",
              "      display:flex;\n",
              "      gap: 12px;\n",
              "    }\n",
              "\n",
              "    .colab-df-convert {\n",
              "      background-color: #E8F0FE;\n",
              "      border: none;\n",
              "      border-radius: 50%;\n",
              "      cursor: pointer;\n",
              "      display: none;\n",
              "      fill: #1967D2;\n",
              "      height: 32px;\n",
              "      padding: 0 0 0 0;\n",
              "      width: 32px;\n",
              "    }\n",
              "\n",
              "    .colab-df-convert:hover {\n",
              "      background-color: #E2EBFA;\n",
              "      box-shadow: 0px 1px 2px rgba(60, 64, 67, 0.3), 0px 1px 3px 1px rgba(60, 64, 67, 0.15);\n",
              "      fill: #174EA6;\n",
              "    }\n",
              "\n",
              "    .colab-df-buttons div {\n",
              "      margin-bottom: 4px;\n",
              "    }\n",
              "\n",
              "    [theme=dark] .colab-df-convert {\n",
              "      background-color: #3B4455;\n",
              "      fill: #D2E3FC;\n",
              "    }\n",
              "\n",
              "    [theme=dark] .colab-df-convert:hover {\n",
              "      background-color: #434B5C;\n",
              "      box-shadow: 0px 1px 3px 1px rgba(0, 0, 0, 0.15);\n",
              "      filter: drop-shadow(0px 1px 2px rgba(0, 0, 0, 0.3));\n",
              "      fill: #FFFFFF;\n",
              "    }\n",
              "  </style>\n",
              "\n",
              "    <script>\n",
              "      const buttonEl =\n",
              "        document.querySelector('#df-6721af62-47a0-4080-a412-a8fbaf7ef6c9 button.colab-df-convert');\n",
              "      buttonEl.style.display =\n",
              "        google.colab.kernel.accessAllowed ? 'block' : 'none';\n",
              "\n",
              "      async function convertToInteractive(key) {\n",
              "        const element = document.querySelector('#df-6721af62-47a0-4080-a412-a8fbaf7ef6c9');\n",
              "        const dataTable =\n",
              "          await google.colab.kernel.invokeFunction('convertToInteractive',\n",
              "                                                    [key], {});\n",
              "        if (!dataTable) return;\n",
              "\n",
              "        const docLinkHtml = 'Like what you see? Visit the ' +\n",
              "          '<a target=\"_blank\" href=https://colab.research.google.com/notebooks/data_table.ipynb>data table notebook</a>'\n",
              "          + ' to learn more about interactive tables.';\n",
              "        element.innerHTML = '';\n",
              "        dataTable['output_type'] = 'display_data';\n",
              "        await google.colab.output.renderOutput(dataTable, element);\n",
              "        const docLink = document.createElement('div');\n",
              "        docLink.innerHTML = docLinkHtml;\n",
              "        element.appendChild(docLink);\n",
              "      }\n",
              "    </script>\n",
              "  </div>\n",
              "\n",
              "\n",
              "    <div id=\"df-c930e482-53b4-4495-8a09-b8d6c8bc83db\">\n",
              "      <button class=\"colab-df-quickchart\" onclick=\"quickchart('df-c930e482-53b4-4495-8a09-b8d6c8bc83db')\"\n",
              "                title=\"Suggest charts\"\n",
              "                style=\"display:none;\">\n",
              "\n",
              "<svg xmlns=\"http://www.w3.org/2000/svg\" height=\"24px\"viewBox=\"0 0 24 24\"\n",
              "     width=\"24px\">\n",
              "    <g>\n",
              "        <path d=\"M19 3H5c-1.1 0-2 .9-2 2v14c0 1.1.9 2 2 2h14c1.1 0 2-.9 2-2V5c0-1.1-.9-2-2-2zM9 17H7v-7h2v7zm4 0h-2V7h2v10zm4 0h-2v-4h2v4z\"/>\n",
              "    </g>\n",
              "</svg>\n",
              "      </button>\n",
              "\n",
              "<style>\n",
              "  .colab-df-quickchart {\n",
              "      --bg-color: #E8F0FE;\n",
              "      --fill-color: #1967D2;\n",
              "      --hover-bg-color: #E2EBFA;\n",
              "      --hover-fill-color: #174EA6;\n",
              "      --disabled-fill-color: #AAA;\n",
              "      --disabled-bg-color: #DDD;\n",
              "  }\n",
              "\n",
              "  [theme=dark] .colab-df-quickchart {\n",
              "      --bg-color: #3B4455;\n",
              "      --fill-color: #D2E3FC;\n",
              "      --hover-bg-color: #434B5C;\n",
              "      --hover-fill-color: #FFFFFF;\n",
              "      --disabled-bg-color: #3B4455;\n",
              "      --disabled-fill-color: #666;\n",
              "  }\n",
              "\n",
              "  .colab-df-quickchart {\n",
              "    background-color: var(--bg-color);\n",
              "    border: none;\n",
              "    border-radius: 50%;\n",
              "    cursor: pointer;\n",
              "    display: none;\n",
              "    fill: var(--fill-color);\n",
              "    height: 32px;\n",
              "    padding: 0;\n",
              "    width: 32px;\n",
              "  }\n",
              "\n",
              "  .colab-df-quickchart:hover {\n",
              "    background-color: var(--hover-bg-color);\n",
              "    box-shadow: 0 1px 2px rgba(60, 64, 67, 0.3), 0 1px 3px 1px rgba(60, 64, 67, 0.15);\n",
              "    fill: var(--button-hover-fill-color);\n",
              "  }\n",
              "\n",
              "  .colab-df-quickchart-complete:disabled,\n",
              "  .colab-df-quickchart-complete:disabled:hover {\n",
              "    background-color: var(--disabled-bg-color);\n",
              "    fill: var(--disabled-fill-color);\n",
              "    box-shadow: none;\n",
              "  }\n",
              "\n",
              "  .colab-df-spinner {\n",
              "    border: 2px solid var(--fill-color);\n",
              "    border-color: transparent;\n",
              "    border-bottom-color: var(--fill-color);\n",
              "    animation:\n",
              "      spin 1s steps(1) infinite;\n",
              "  }\n",
              "\n",
              "  @keyframes spin {\n",
              "    0% {\n",
              "      border-color: transparent;\n",
              "      border-bottom-color: var(--fill-color);\n",
              "      border-left-color: var(--fill-color);\n",
              "    }\n",
              "    20% {\n",
              "      border-color: transparent;\n",
              "      border-left-color: var(--fill-color);\n",
              "      border-top-color: var(--fill-color);\n",
              "    }\n",
              "    30% {\n",
              "      border-color: transparent;\n",
              "      border-left-color: var(--fill-color);\n",
              "      border-top-color: var(--fill-color);\n",
              "      border-right-color: var(--fill-color);\n",
              "    }\n",
              "    40% {\n",
              "      border-color: transparent;\n",
              "      border-right-color: var(--fill-color);\n",
              "      border-top-color: var(--fill-color);\n",
              "    }\n",
              "    60% {\n",
              "      border-color: transparent;\n",
              "      border-right-color: var(--fill-color);\n",
              "    }\n",
              "    80% {\n",
              "      border-color: transparent;\n",
              "      border-right-color: var(--fill-color);\n",
              "      border-bottom-color: var(--fill-color);\n",
              "    }\n",
              "    90% {\n",
              "      border-color: transparent;\n",
              "      border-bottom-color: var(--fill-color);\n",
              "    }\n",
              "  }\n",
              "</style>\n",
              "\n",
              "      <script>\n",
              "        async function quickchart(key) {\n",
              "          const quickchartButtonEl =\n",
              "            document.querySelector('#' + key + ' button');\n",
              "          quickchartButtonEl.disabled = true;  // To prevent multiple clicks.\n",
              "          quickchartButtonEl.classList.add('colab-df-spinner');\n",
              "          try {\n",
              "            const charts = await google.colab.kernel.invokeFunction(\n",
              "                'suggestCharts', [key], {});\n",
              "          } catch (error) {\n",
              "            console.error('Error during call to suggestCharts:', error);\n",
              "          }\n",
              "          quickchartButtonEl.classList.remove('colab-df-spinner');\n",
              "          quickchartButtonEl.classList.add('colab-df-quickchart-complete');\n",
              "        }\n",
              "        (() => {\n",
              "          let quickchartButtonEl =\n",
              "            document.querySelector('#df-c930e482-53b4-4495-8a09-b8d6c8bc83db button');\n",
              "          quickchartButtonEl.style.display =\n",
              "            google.colab.kernel.accessAllowed ? 'block' : 'none';\n",
              "        })();\n",
              "      </script>\n",
              "    </div>\n",
              "    </div>\n",
              "  </div>\n"
            ],
            "application/vnd.google.colaboratory.intrinsic+json": {
              "type": "dataframe",
              "variable_name": "exp_df"
            }
          },
          "metadata": {},
          "execution_count": 39
        }
      ]
    },
    {
      "cell_type": "code",
      "source": [
        "metric = 'promotion_listers'\n",
        "test = np.array(exp_df[(exp_df['group'] == 'test')][metric])\n",
        "control = np.array(exp_df[(exp_df['group'] == 'control')][metric])\n",
        "\n",
        "MDE_new = get_relative_MDE(test, control, alpha=0.05, beta=0.2)\n",
        "\n",
        "print(f\"Относительный MDE равен {round(MDE_new * 100, 1)}%\")"
      ],
      "metadata": {
        "colab": {
          "base_uri": "https://localhost:8080/"
        },
        "id": "zJZRBAC3M3VJ",
        "outputId": "4308401c-be3a-47ea-f5c1-8b9c8fa97c0e"
      },
      "execution_count": null,
      "outputs": [
        {
          "output_type": "stream",
          "name": "stdout",
          "text": [
            "Относительный MDE равен 1.7%\n"
          ]
        }
      ]
    },
    {
      "cell_type": "markdown",
      "source": [
        "Было 15.8%, стало 1.7% на более чувствительной метрике! Сокращение около 10 раз, как и на исскуственном примере. Кроме того, итоговый оцененный MDE на истории совпал с MDE на экспериментальном периоде.\n",
        "\n",
        "А что теперь получилось с точки зрения стат значимости?"
      ],
      "metadata": {
        "id": "2rwuJm8EM6RC"
      }
    },
    {
      "cell_type": "code",
      "source": [
        "results = absolute_ttest(control, test, two_sided_alpha=0.1)\n",
        "\n",
        "print(f'Effect: {round(results.effect, 3)},({round(results.left_bound, 3)}, {round(results.right_bound, 3)})')\n",
        "print(f'two-sided pvalue: {round(results.pvalue * 100, 1)}%, one-sided pvalue: {round(results.pvalue / 2 * 100, 1)}%')"
      ],
      "metadata": {
        "colab": {
          "base_uri": "https://localhost:8080/"
        },
        "id": "7_P-Gv0qM4iz",
        "outputId": "72cac640-9563-4dfc-ef25-da7eaa0702f9"
      },
      "execution_count": null,
      "outputs": [
        {
          "output_type": "stream",
          "name": "stdout",
          "text": [
            "Effect: 0.005,(0.002, 0.008)\n",
            "two-sided pvalue: 1.2%, one-sided pvalue: 0.6%\n"
          ]
        }
      ]
    },
    {
      "cell_type": "markdown",
      "source": [
        "pvalue < 0.05, а значит у нас с вами \"зеленый\" тест!\n"
      ],
      "metadata": {
        "id": "JLuer7tCM-Rz"
      }
    },
    {
      "cell_type": "markdown",
      "source": [
        "#### Виды результатов AB-тестов. Терминология.\n",
        "\n",
        "Выделяют 3 результата AB-теста\n",
        "- <span style=\"color:green\">\"зеленый прокрас\"</span> &mdash; идеальное состояние. Ваша метрика стат. значимо улучшилась, как вы и хотели. Чаще всего это значит, что можно катить ваше изменение. Катить – значит запускать.\n",
        "- <span style=\"color:lightgrey\">\"серый прокрас\"</span> &mdash; грустный результат: вы не смогли получить стат. значимый эффект. Теперь вам надо разбираться, что с этим делать и почему так получилось.\n",
        "- <span style=\"color:red\">\"красный прокрас\"</span> &mdash; худшее состояние. Ваша метрика прокрасилась, но не в ту сторону: вы сделали хуже, чем было. И вам также надо разобраться в причинах таких результатов.\n",
        "\n",
        "\n",
        "В нашем случае, в первой части лекции был серый результат, а стал зеленым!"
      ],
      "metadata": {
        "id": "SyTs4sHwNAiA"
      }
    },
    {
      "cell_type": "markdown",
      "source": [
        "### 2.3 Контр-метрики\n",
        "\n",
        "Казалось бы, на этом можно было бы остановиться, но мы не учли, что наши изменения могут негативно сказаться на других метриках! Если текущая раскатка приведет к значительному негативному падению, который перевесит все положительные стороны от текущего изменения, то мы можем и отказаться от этой фичи.\n",
        "\n",
        "Метрики, которые могут ухудшиться в ходе эксперимента, и они важны для компании и бизнеса, называются **контр-метриками**.\n",
        "\n",
        "Ранее мы уже отмечали 2 метрики, которые не должны упасть, раз мы перешли к прокси метрике:\n",
        "- ratio-метрика `promotion_revenue / promotion_listers`. как работать с такими метриками – прочитайте или посмотрите [лекцию 11 в курсе статистики](https://avito.tech/education/statistics).\n",
        "- метрика `promotion_listings`\n",
        "\n",
        "Кроме того, мы можем перейти к метрике `promotion_listers` только в случае, если будем уверены, что `promotion_revenue / promotion_listers` не упала, иначе результат по прокси метрике может быть не сонаправлен с `revenue`.\n",
        "\n",
        "Но мы знаем, что:\n",
        "1. По логике вещей, наши изменения не должны повлиять на эти показатели.\n",
        "2. Эти метрики более \"шумные\", и мы вряд ли заметим в них какой-либо эффект.\n",
        "\n",
        "Поэтому у нас не будет сильных ожиданий в прокрасах этих метрик, мы их смотрим больше информационно, дабы заметить, если что-то действительно пошло не так."
      ],
      "metadata": {
        "id": "t7oou2XoNEqo"
      }
    },
    {
      "cell_type": "code",
      "source": [
        "# Создаем линеаризованную метрику promotion_revenue / promotion_listers\n",
        "\n",
        "def linearisation(numerator, denominator):\n",
        "    E_num = np.mean(numerator)\n",
        "    E_den = np.mean(denominator)\n",
        "    return E_num / E_den + 1 / E_den * (numerator - E_num / E_den * denominator)\n",
        "\n",
        "\n",
        "def make_linearized_revenue_listers_metric(start_df):\n",
        "    df = start_df.copy()\n",
        "\n",
        "    df['lin_revenue_listers'] = 0\n",
        "\n",
        "    for group in ['test', 'control']:\n",
        "        revenue = np.array(df[(df['group'] == group)]['promotion_revenue'])\n",
        "        listers = np.array(df[(df['group'] == group)]['promotion_listers'])\n",
        "\n",
        "        df.loc[df['group'] == group, 'lin_revenue_listers'] = linearisation(revenue, listers)\n",
        "    return df"
      ],
      "metadata": {
        "id": "6AABQW29M8K-"
      },
      "execution_count": null,
      "outputs": []
    },
    {
      "cell_type": "code",
      "source": [
        "exp_df = make_linearized_revenue_listers_metric(exp_df)\n",
        "\n",
        "for metric in ['lin_revenue_listers', 'promotion_listings']:\n",
        "    test = np.array(exp_df[(exp_df['group'] == 'test')][metric])\n",
        "    control = np.array(exp_df[(exp_df['group'] == 'control')][metric])\n",
        "\n",
        "    results = absolute_ttest(control, test, two_sided_alpha=0.1)\n",
        "\n",
        "    print(metric)\n",
        "    print(f'Effect: {round(results.effect, 3)},({round(results.left_bound, 3)}, {round(results.right_bound, 3)})')\n",
        "    print(f'two-sided pvalue: {round(results.pvalue * 100, 1)}%, one-sided pvalue: {round(results.pvalue / 2 * 100, 1)}%')\n",
        "    print('----')"
      ],
      "metadata": {
        "colab": {
          "base_uri": "https://localhost:8080/"
        },
        "id": "lD4EfDTeNLCA",
        "outputId": "7b3e1a10-b4c2-4551-b3eb-4b11ee0658cc"
      },
      "execution_count": null,
      "outputs": [
        {
          "output_type": "stream",
          "name": "stdout",
          "text": [
            "lin_revenue_listers\n",
            "Effect: -56.987,(-181.318, 67.344)\n",
            "two-sided pvalue: 45.1%, one-sided pvalue: 22.5%\n",
            "----\n",
            "promotion_listings\n",
            "Effect: 0.035,(0.004, 0.066)\n",
            "two-sided pvalue: 6.6%, one-sided pvalue: 3.3%\n",
            "----\n"
          ]
        }
      ]
    },
    {
      "cell_type": "markdown",
      "source": [
        "1. ratio-метрика `promotion_revenue / promotion_listers` стат значимо не изменилась, все отлично.\n",
        "2. А `promotion_listings` прокрасилась в положительную сторону! А значит плюс еще одна прокси-метрика в подтвержедние раскатки теста."
      ],
      "metadata": {
        "id": "3zPL9xyxNeA0"
      }
    },
    {
      "cell_type": "markdown",
      "source": [
        "Однако давайте обратим внимание на метрику `other_revenue`, которая показывает выручку от других продуктов продвижения, у которых мы не меняли дизайн. **Есть серьезные опасения, что мы могли ее каннибализировать**: пользователи стали покупать текущую услугу продвижения с новым дизайном и перестали покупать другие услуги из-за их ограниченности бюджета или менее привлекательного предложения по сравнению с текущей обновленной услугой. Мы не можем игнорировать эту метрику, даже если у неё широкий доверительный интервал."
      ],
      "metadata": {
        "id": "1z4vTUHDNhls"
      }
    },
    {
      "cell_type": "code",
      "source": [
        "metric = 'other_revenue'\n",
        "test = np.array(exp_df[(exp_df['group'] == 'test')][metric])\n",
        "control = np.array(exp_df[(exp_df['group'] == 'control')][metric])\n",
        "\n",
        "results = absolute_ttest(control, test, two_sided_alpha=0.1)\n",
        "\n",
        "print(f'Effect: {round(results.effect, 1)} руб., ({round(results.left_bound, 1)}, {round(results.right_bound, 1)})')\n",
        "print(f'two-sided pvalue: {round(results.pvalue * 100, 1)}%, one-sided pvalue: {round(results.pvalue / 2 * 100, 1)}%')"
      ],
      "metadata": {
        "colab": {
          "base_uri": "https://localhost:8080/"
        },
        "id": "j-nYpNCdNaTe",
        "outputId": "65094bb9-659d-4ea8-96f0-28a22045f5b2"
      },
      "execution_count": null,
      "outputs": [
        {
          "output_type": "stream",
          "name": "stdout",
          "text": [
            "Effect: -6.5 руб., (-15.9, 3.0)\n",
            "two-sided pvalue: 25.8%, one-sided pvalue: 12.9%\n"
          ]
        }
      ]
    },
    {
      "cell_type": "markdown",
      "source": [
        "В данном случае нас не интересует просто прокрас/не прокрас, а нужно реальное понимание, насколько могло быть сильное падение? Она идеалогически могла полностью убрать эффект от теста.\n",
        "\n",
        "Давайте посмотрим на относительный MDE."
      ],
      "metadata": {
        "id": "LL0mFa7MOHqs"
      }
    },
    {
      "cell_type": "code",
      "source": [
        "MDE = get_relative_MDE(test, control, alpha=0.05, beta=0.2)\n",
        "\n",
        "print(f\"Относительный MDE равен {round(MDE * 100, 1)}%\")"
      ],
      "metadata": {
        "colab": {
          "base_uri": "https://localhost:8080/"
        },
        "id": "IsSMWSPJOEgX",
        "outputId": "356bc70d-d27f-4e79-b365-b95975422f61"
      },
      "execution_count": null,
      "outputs": [
        {
          "output_type": "stream",
          "name": "stdout",
          "text": [
            "Относительный MDE равен 5.4%\n"
          ]
        }
      ]
    },
    {
      "cell_type": "markdown",
      "source": [
        "MDE большой, непонятно, что с этим делать. Для финального принятия решения нам не хватает лучшей визуализации и интерпретации результатов."
      ],
      "metadata": {
        "id": "LzoM6LB8OL9I"
      }
    },
    {
      "cell_type": "markdown",
      "source": [
        "## Часть 3. Грамотная демонстрация результатов.\n",
        "\n",
        "В этом разделе мы сосредоточимся на том, как грамотно представлять результаты, и продемонстрируем это на примере текущего кейса.\n",
        "\n",
        "1. Смотреть и показывать p-value – непонятно ни вам, ни коллегам. Глядя на него, вы можете сказать, стало ли лучше или хуже, но не сможете определить насколько. Кроме того, вам будет сложно интерпретировать «серые» результаты: связана ли проблема с чувствительностью эксперимента или с небольшим эффектом?\n",
        "\n",
        "\n",
        "Поэтому предлагается смотреть на доверительный интервал.\n",
        "\n",
        "*Пример*: эффект на выручку +100 М, p-value 0.01 не так понятно как: эффект на выручку +100 М $\\pm$ 50 M.\n",
        "\n",
        "2. При этом, как мы уже убедились, абсолютные значения также могут быть трудно интерпретируемыми. Например, эффект 0.035 – `promotion_listings` это много или мало? Поэтому нам надо научиться строить все метрики относительно, в том числе и доверительные интервалы. Так результаты сильно более интерпретируемы. Но, как мы увидим далее, это не так просто.\n",
        "\n",
        "*Пример*: эффект +20000 покупок в месяц не так понятно, как +5% покупок в месяц."
      ],
      "metadata": {
        "id": "rPPsE0azOOQU"
      }
    },
    {
      "cell_type": "markdown",
      "source": [
        "### 3.1 Доверительный интервал для относительного эффекта\n",
        "\n",
        "Первое, что **вам не надо делать** – это посчитать дов. интервал для абсолютного эффекта и потелить его на среднее в контроле.\n",
        "\n",
        "![](https://habrastorage.org/r/w1560/getpro/habr/upload_files/9d3/af0/9e7/9d3af09e7fa3c6fc108096f7c4ab9f61.png)\n",
        "\n",
        "Почему? Читай [тут](https://habr.com/ru/companies/avito/articles/571094/),  секция \"Относительный T-test критерий\".\n",
        "\n",
        "Правильный интервал для отношения мат. ожиданий можно вывести 2 способами: через линеаризацию или через дельта-метод. Оба этих метода мы уже [разбирали на курсе статистики](https://avito.tech/education/statistics#:~:text=%D0%9C%D0%B5%D1%82%D0%BE%D0%B4%D0%B8%D1%87%D0%BA%D0%B0%20%D0%BA%20%D1%83%D1%80%D0%BE%D0%BA%D1%83-,11.%20%D0%9B%D0%B8%D0%BD%D0%B5%D0%B0%D1%80%D0%B8%D0%B7%D0%B0%D1%86%D0%B8%D1%8F,-11.4.%20Ratio%2D%D0%BC%D0%B5%D1%82%D1%80%D0%B8%D0%BA%D0%B8), поэтому сейчас предлагаю воспользоваться дельта-методом и решить эту задачу.\n",
        "\n",
        "- Статистика $\\dfrac{\\overline{T} - \\overline{C}}{\\overline{C}}$ будет из нормального распределения $ \\mathrm{N}\\left(\\dfrac{\\mathbb{E}  T - \\mathbb{E} C}{\\mathbb{E}  C} ,\\mathbf{D}\\right)$, где дисперсия расписывается ниже:\n",
        "![](https://habrastorage.org/getpro/habr/upload_files/d22/ed6/2a7/d22ed62a7b2338f9dcaccac7a088891c.png)\n",
        "\n",
        "    - Свойство следует напрямую из теоремы [дельта-метода](https://ru.wikipedia.org/wiki/Дельта-метод_(статистика)).\n",
        "- Подставляя вместо ковариации, дисперсии и мат. ожидания оценочные функции (`np.cov`, `np.var`, `np.mean`) можно получить итоговый критерий. Доказательство полностью аналогично тому, как мы доказывали нормальную аппроксимацию для t-test критерия ([ищите в методичке t-test](https://github.com/avito-tech/applied_statistics/blob/main/T-test.ipynb) раздел `t'-test`)."
      ],
      "metadata": {
        "id": "WQDtv3OBOUzT"
      }
    },
    {
      "cell_type": "code",
      "source": [
        "def relative_ttest(control, test, two_sided_alpha):\n",
        "\n",
        "    mean_control = np.mean(control)\n",
        "    var_mean_control  = np.var(control) / len(control)\n",
        "\n",
        "    difference_mean = np.mean(test) - mean_control\n",
        "    difference_mean_var  = np.var(test) / len(test) + var_mean_control\n",
        "\n",
        "    # Это следует из того, что тест и контроль независимы между собой.\n",
        "    covariance = -var_mean_control\n",
        "\n",
        "    # наша оценка эффекта\n",
        "    relative_effect = difference_mean / mean_control\n",
        "\n",
        "    # Реализовали страшную формулу выше\n",
        "    relative_var = difference_mean_var / (mean_control ** 2) \\\n",
        "                    + var_mean_control * ((difference_mean ** 2) / (mean_control ** 4))\\\n",
        "                    - 2 * (difference_mean / (mean_control ** 3)) * covariance\n",
        "    relative_distribution = sps.norm(loc=relative_effect, scale=np.sqrt(relative_var))\n",
        "\n",
        "    # Доверительный интервал – это просто квантили нашего распределения.\n",
        "    left_bound, right_bound = relative_distribution.ppf([two_sided_alpha / 2, 1 - two_sided_alpha / 2])\n",
        "    ci_length = (right_bound - left_bound)\n",
        "    pvalue = 2 * min(relative_distribution.cdf(0), relative_distribution.sf(0))\n",
        "    return ExperimentComparisonResults(pvalue, relative_effect, ci_length, left_bound, right_bound)\n"
      ],
      "metadata": {
        "id": "i5qbe7juOKBW"
      },
      "execution_count": null,
      "outputs": []
    },
    {
      "cell_type": "markdown",
      "source": [
        "Давайте проверим на искусственном Монте-Карло, что критерий верен:"
      ],
      "metadata": {
        "id": "7hGD82nZRCYr"
      }
    },
    {
      "cell_type": "code",
      "source": [
        "bad_cnt = 0\n",
        "\n",
        "N = 1000\n",
        "for i in tqdm_notebook(range(N)):\n",
        "    control = sps.expon(scale=1000).rvs(1000)\n",
        "    # Мат. ож в 1.1 раза больше\n",
        "    test = sps.expon(scale=1100).rvs(1000)\n",
        "\n",
        "    _, _, _, left_bound, right_bound = relative_ttest(control, test, two_sided_alpha=0.1)\n",
        "    if left_bound > 0.1 or right_bound < 0.1:\n",
        "        bad_cnt += 1\n",
        "\n",
        "left_real_level, right_real_level = proportion_confint(count = bad_cnt, nobs = N, alpha=0.05, method='wilson')\n",
        "# Результат.\n",
        "print(f\"Реальный уровень значимости: {round(bad_cnt / N, 4)};\"\n",
        "      f\" доверительный интервал: [{round(left_real_level, 4)}, {round(right_real_level, 4)}]\")"
      ],
      "metadata": {
        "colab": {
          "base_uri": "https://localhost:8080/",
          "height": 67,
          "referenced_widgets": [
            "26dba105837b4959a4301acf08dabef9",
            "8a5fb6df02b34ec5aba38f8186e9280e",
            "32571f0094784867a6ca67ea31251ecc",
            "ce86649cd8c140b0991574c4feb15219",
            "6b8252267f3d4a648b22b8116f707839",
            "753757f8cad14c28ac5a3ad585cda346",
            "628a6cff6c7a4ccdad47c33093c0d92f",
            "19f888f5111c4f0a8b46982291a480d8",
            "8fc07c06a6b247bbae18d25fa6039156",
            "f40f39deb2da4bdfa90843291a01d8b0",
            "29590987c1d64415bdc1464991d840fb"
          ]
        },
        "id": "Q36Z9fhyRAnz",
        "outputId": "055c5886-25ae-47b7-d662-ca02df34e18f"
      },
      "execution_count": null,
      "outputs": [
        {
          "output_type": "display_data",
          "data": {
            "text/plain": [
              "  0%|          | 0/1000 [00:00<?, ?it/s]"
            ],
            "application/vnd.jupyter.widget-view+json": {
              "version_major": 2,
              "version_minor": 0,
              "model_id": "26dba105837b4959a4301acf08dabef9"
            }
          },
          "metadata": {}
        },
        {
          "output_type": "stream",
          "name": "stdout",
          "text": [
            "Реальный уровень значимости: 0.096; доверительный интервал: [0.0793, 0.1158]\n"
          ]
        }
      ]
    },
    {
      "cell_type": "markdown",
      "source": [
        "Да, всё верно!\n",
        "\n",
        "----\n",
        "\n",
        "Давайте теперь посмотрим на результаты теста в таком случае случае для всех метрик:"
      ],
      "metadata": {
        "id": "Gtkc_XPgRGE2"
      }
    },
    {
      "cell_type": "code",
      "source": [
        "results_dict = {}\n",
        "for metric in ['lin_revenue_listers', 'promotion_listings', 'other_revenue', 'promotion_listers']:\n",
        "    test = np.array(exp_df[(exp_df['group'] == 'test')][metric])\n",
        "    control = np.array(exp_df[(exp_df['group'] == 'control')][metric])\n",
        "    results = relative_ttest(control, test, two_sided_alpha=0.1)\n",
        "    delta = results.ci_length / 2\n",
        "    results_dict[metric] = results\n",
        "    print(f'{metric}: {round(results.effect * 100, 1)}% ± {round(delta * 100, 1)}%')"
      ],
      "metadata": {
        "colab": {
          "base_uri": "https://localhost:8080/"
        },
        "id": "J2ehSJ8jRDw0",
        "outputId": "760bc3c3-ebbb-4268-b693-0a50965a5269"
      },
      "execution_count": null,
      "outputs": [
        {
          "output_type": "stream",
          "name": "stdout",
          "text": [
            "lin_revenue_listers: -1.9% ± 4.1%\n",
            "promotion_listings: 3.5% ± 3.2%\n",
            "other_revenue: -2.5% ± 3.5%\n",
            "promotion_listers: 1.8% ± 1.2%\n"
          ]
        }
      ]
    },
    {
      "cell_type": "markdown",
      "source": [
        "В таком представлении результаты кажутся сильно более наглядными **по отдельности**.\n",
        "\n",
        "Но мы все еще не можем понять: `other_revenue: -2.5% ± 3.5%` перекрывает ли эффект `promotion_listers: 1.8% ± 1.2%` или нет?\n",
        "\n",
        "Для этого давайте посмотрим соотношение `other_revenue` и `promotion_revenue` между собой."
      ],
      "metadata": {
        "id": "nPAY1J9uRK9C"
      }
    },
    {
      "cell_type": "code",
      "source": [
        "other_sum = np.sum(np.array(exp_df[(exp_df['group'] == 'control')]['other_revenue']))\n",
        "promotion_sum = np.sum(np.array(exp_df[(exp_df['group'] == 'control')]['promotion_revenue']))\n",
        "full_revenue = other_sum + promotion_sum\n",
        "\n",
        "other_pct = np.sum(other_sum) / np.sum(full_revenue) * 100\n",
        "print(f\"other_revenue / full revenue = {round(other_pct, 0)}%\")"
      ],
      "metadata": {
        "colab": {
          "base_uri": "https://localhost:8080/"
        },
        "id": "i8VMGvUKRIm3",
        "outputId": "fbd53efe-d6a2-4093-f9ff-ea9076bde63a"
      },
      "execution_count": null,
      "outputs": [
        {
          "output_type": "stream",
          "name": "stdout",
          "text": [
            "other_revenue / full revenue = 25.0%\n"
          ]
        }
      ]
    },
    {
      "cell_type": "markdown",
      "source": [
        "`other_revenue` составляет 25% от всей выручки, а `promotion_revenue` составляет 75%.\n",
        "\n",
        "Как мы говорили ранее, мы логично предполагаем, что рост `promotion_listers` ведет к такому же росту `promotion_revenue`. У нас нет опасений, что `promotion_revenue / promotion_listers` упал.\n",
        "\n",
        "Тогда наши результаты по метрике и контр-метрике можно сравнивать:"
      ],
      "metadata": {
        "id": "UDccHjc0RR5X"
      }
    },
    {
      "cell_type": "code",
      "source": [
        "pct_dict = {\n",
        "    'other_revenue': 0.25,\n",
        "    'promotion_listers': 0.75\n",
        "}\n",
        "for metric in pct_dict:\n",
        "    curr_results = results_dict[metric]\n",
        "    delta = curr_results.ci_length / 2\n",
        "    coeff = pct_dict[metric]\n",
        "    print(f'{metric} revenue influence: {round(curr_results.effect * 100 * coeff, 1)}% ± {round(delta * 100 * coeff, 1)}%')"
      ],
      "metadata": {
        "colab": {
          "base_uri": "https://localhost:8080/"
        },
        "id": "vpu7bSALRNJs",
        "outputId": "fd02020d-6084-443b-e269-1e369c3a7878"
      },
      "execution_count": null,
      "outputs": [
        {
          "output_type": "stream",
          "name": "stdout",
          "text": [
            "other_revenue revenue influence: -0.6% ± 0.9%\n",
            "promotion_listers revenue influence: 1.3% ± 0.9%\n"
          ]
        }
      ]
    },
    {
      "cell_type": "markdown",
      "source": [
        "То есть оценочно выручка выросла на 0,7% (= 1,3 - 0,6). А какой доверительный интервал? Так как средние по ЦПТ из нормального распределения, то это можно просто вывести математически, но легче насемплировать:"
      ],
      "metadata": {
        "id": "KoTmSxqiRZeR"
      }
    },
    {
      "cell_type": "code",
      "source": [
        "std = 0.9 / sps.norm().ppf(1 - alpha)\n",
        "other_revenue_effect_gen_sample = sps.norm(loc=-0.6, scale=std).rvs(1000)\n",
        "promo_revenue_effect_gen_sample = sps.norm(loc=1.3, scale=std).rvs(1000)\n",
        "\n",
        "left, right = np.quantile(other_revenue_effect_gen_sample + promo_revenue_effect_gen_sample, [0.05, 0.95])\n",
        "\n",
        "print(f\"full revenue effect CI: ({round(left, 1)}%, {round(right, 1)}%)\")"
      ],
      "metadata": {
        "colab": {
          "base_uri": "https://localhost:8080/"
        },
        "id": "B_qxY6EvRWkI",
        "outputId": "d453e22b-8a3c-4d64-8103-bccde2be557b"
      },
      "execution_count": null,
      "outputs": [
        {
          "output_type": "stream",
          "name": "stdout",
          "text": [
            "full revenue effect CI: (-0.4%, 2.0%)\n"
          ]
        }
      ]
    },
    {
      "cell_type": "markdown",
      "source": [
        "У нас нет точных доказательств того, что выручка не могла снизиться, но мы знаем, что её падение не превысило 0,4%.\n",
        "\n",
        "Обладая этими данными, вы и ваш бизнес-партнёр сможете более обоснованно принять решение о внедрении нового дизайна. В этом случае, скорее всего, будет решено катить изменение. Мы улучшили и сделали текущую услугу более понятной для пользователей, что, как минимум, привело к увеличению числа покупок и покупателей. При этом не было замечено снижения выручки в других источниках продвижения. А суммарное, максимально возможное, падение выручки оказалось не таким значительным.\n",
        "\n",
        "*На будущее: важно при сетапе теста также не забывать и про рассчет MDE для контр-метрик.*\n"
      ],
      "metadata": {
        "id": "g-PYpIaxRd9e"
      }
    },
    {
      "cell_type": "markdown",
      "source": [
        "## Часть 4. Пайплайн AB-тестов, начальная версия.\n",
        "\n",
        "Методология AB-теста делится на 3 этапа:\n",
        "1. Сетап теста.\n",
        "    1. Определите основную метрику теста исходя из бизнес логики. Сформулируйте статистическую гипотезу, зафиксируйте критерий, определите уровень значимости, или False Positive Rate.\n",
        "    2. Определите контр-метрики вашего теста.\n",
        "    3. Оцените ожидаемый эффект на основную метрику.\n",
        "    4. Определите оптимальный сетап теста по MDE.\n",
        "        1. Определите размер групп в тесте и в контроле.\n",
        "        2. Определите длительность теста.\n",
        "        3. MDE получился меньше ожидаемого эффекта? Тогда переходите к запуску теста.\n",
        "        4. Если нет, то определите прокси-метрики: пробило ли MDE какой-то из метрик ожидаемый результат? Добавьте остальные метрики при разбиении нашей начальной метрики на части, как контр-метрики для health чека вашего AB-теста.\n",
        "        5. Проверьте, что у основной контр-метрики не очень широкий доверительный интервал. На практике не столь обязательный шаг, но очень желательный. Идеально – провернуть с ним всё то же самое, что и с основной метрикой.\n",
        "2. Проведение теста. Подождите заранее зафиксированного срока на этапе сетапа теста.\n",
        "3. Анализ результатов.\n",
        "    - Оцените результаты выбранным ранее критерием.\n",
        "    - Не забывайте правильно визуализировать и интерпретировать результаты. Здесь вам на помощь может прийти относительный T-test."
      ],
      "metadata": {
        "id": "U_L5dx8xRgbI"
      }
    },
    {
      "cell_type": "markdown",
      "source": [
        "## Часть 5. Итоги\n",
        "\n",
        "В этой статье мы с вами рассмотрели несколько важных аспектов AB-тестирования:\n",
        "\n",
        "- Поняли, что такое AB-тестирование на практике.\n",
        "- Ознакомились с основами грамотного сетапа AB-тестов.\n",
        "- Научились правильно анализировать и представлять результаты AB-тестов, включая относительный T-test.\n",
        "\n",
        "На этом всё! Если вы внимательно изучите весь материал, то сможете успешно пройти собеседование по AB-тестам на должность аналитика."
      ],
      "metadata": {
        "id": "4Jq1UHcGRpVG"
      }
    },
    {
      "cell_type": "code",
      "source": [],
      "metadata": {
        "id": "M-CU1w0aRbmc"
      },
      "execution_count": null,
      "outputs": []
    }
  ]
}